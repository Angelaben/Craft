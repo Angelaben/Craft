{
 "cells": [
  {
   "cell_type": "code",
   "execution_count": 1,
   "metadata": {},
   "outputs": [
    {
     "name": "stderr",
     "output_type": "stream",
     "text": [
      "Using TensorFlow backend.\n"
     ]
    }
   ],
   "source": [
    "import pandas \n",
    "import numpy as np\n",
    "import keras\n",
    "import matplotlib.pyplot as plt\n",
    "import datetime"
   ]
  },
  {
   "cell_type": "code",
   "execution_count": 2,
   "metadata": {},
   "outputs": [
    {
     "name": "stderr",
     "output_type": "stream",
     "text": [
      "/usr/local/lib/python3.5/dist-packages/IPython/core/interactiveshell.py:3020: DtypeWarning: Columns (2,3,4,5,6,7) have mixed types. Specify dtype option on import or set low_memory=False.\n",
      "  interactivity=interactivity, compiler=compiler, result=result)\n"
     ]
    },
    {
     "data": {
      "text/html": [
       "<div>\n",
       "<style scoped>\n",
       "    .dataframe tbody tr th:only-of-type {\n",
       "        vertical-align: middle;\n",
       "    }\n",
       "\n",
       "    .dataframe tbody tr th {\n",
       "        vertical-align: top;\n",
       "    }\n",
       "\n",
       "    .dataframe thead th {\n",
       "        text-align: right;\n",
       "    }\n",
       "</style>\n",
       "<table border=\"1\" class=\"dataframe\">\n",
       "  <thead>\n",
       "    <tr style=\"text-align: right;\">\n",
       "      <th></th>\n",
       "      <th>Date</th>\n",
       "      <th>Time</th>\n",
       "      <th>Global_active_power</th>\n",
       "      <th>Global_reactive_power</th>\n",
       "      <th>Voltage</th>\n",
       "      <th>Global_intensity</th>\n",
       "      <th>Sub_metering_1</th>\n",
       "      <th>Sub_metering_2</th>\n",
       "      <th>Sub_metering_3</th>\n",
       "    </tr>\n",
       "  </thead>\n",
       "  <tbody>\n",
       "    <tr>\n",
       "      <th>0</th>\n",
       "      <td>16/12/2006</td>\n",
       "      <td>17:24:00</td>\n",
       "      <td>4.216</td>\n",
       "      <td>0.418</td>\n",
       "      <td>234.840</td>\n",
       "      <td>18.400</td>\n",
       "      <td>0.000</td>\n",
       "      <td>1.000</td>\n",
       "      <td>17.0</td>\n",
       "    </tr>\n",
       "    <tr>\n",
       "      <th>1</th>\n",
       "      <td>16/12/2006</td>\n",
       "      <td>17:25:00</td>\n",
       "      <td>5.360</td>\n",
       "      <td>0.436</td>\n",
       "      <td>233.630</td>\n",
       "      <td>23.000</td>\n",
       "      <td>0.000</td>\n",
       "      <td>1.000</td>\n",
       "      <td>16.0</td>\n",
       "    </tr>\n",
       "    <tr>\n",
       "      <th>2</th>\n",
       "      <td>16/12/2006</td>\n",
       "      <td>17:26:00</td>\n",
       "      <td>5.374</td>\n",
       "      <td>0.498</td>\n",
       "      <td>233.290</td>\n",
       "      <td>23.000</td>\n",
       "      <td>0.000</td>\n",
       "      <td>2.000</td>\n",
       "      <td>17.0</td>\n",
       "    </tr>\n",
       "    <tr>\n",
       "      <th>3</th>\n",
       "      <td>16/12/2006</td>\n",
       "      <td>17:27:00</td>\n",
       "      <td>5.388</td>\n",
       "      <td>0.502</td>\n",
       "      <td>233.740</td>\n",
       "      <td>23.000</td>\n",
       "      <td>0.000</td>\n",
       "      <td>1.000</td>\n",
       "      <td>17.0</td>\n",
       "    </tr>\n",
       "    <tr>\n",
       "      <th>4</th>\n",
       "      <td>16/12/2006</td>\n",
       "      <td>17:28:00</td>\n",
       "      <td>3.666</td>\n",
       "      <td>0.528</td>\n",
       "      <td>235.680</td>\n",
       "      <td>15.800</td>\n",
       "      <td>0.000</td>\n",
       "      <td>1.000</td>\n",
       "      <td>17.0</td>\n",
       "    </tr>\n",
       "  </tbody>\n",
       "</table>\n",
       "</div>"
      ],
      "text/plain": [
       "         Date      Time Global_active_power Global_reactive_power  Voltage  \\\n",
       "0  16/12/2006  17:24:00               4.216                 0.418  234.840   \n",
       "1  16/12/2006  17:25:00               5.360                 0.436  233.630   \n",
       "2  16/12/2006  17:26:00               5.374                 0.498  233.290   \n",
       "3  16/12/2006  17:27:00               5.388                 0.502  233.740   \n",
       "4  16/12/2006  17:28:00               3.666                 0.528  235.680   \n",
       "\n",
       "  Global_intensity Sub_metering_1 Sub_metering_2  Sub_metering_3  \n",
       "0           18.400          0.000          1.000            17.0  \n",
       "1           23.000          0.000          1.000            16.0  \n",
       "2           23.000          0.000          2.000            17.0  \n",
       "3           23.000          0.000          1.000            17.0  \n",
       "4           15.800          0.000          1.000            17.0  "
      ]
     },
     "execution_count": 2,
     "metadata": {},
     "output_type": "execute_result"
    }
   ],
   "source": [
    "data = pandas.read_csv(\"household_power_consumption.txt\", sep = \";\")\n",
    "data.head()"
   ]
  },
  {
   "cell_type": "markdown",
   "metadata": {},
   "source": [
    "# Transform object into more suitable features"
   ]
  },
  {
   "cell_type": "code",
   "execution_count": 3,
   "metadata": {},
   "outputs": [
    {
     "name": "stderr",
     "output_type": "stream",
     "text": [
      "/usr/local/lib/python3.5/dist-packages/ipykernel_launcher.py:2: FutureWarning: convert_objects is deprecated.  To re-infer data dtypes for object columns, use DataFrame.infer_objects()\n",
      "For all other conversions use the data-type specific converters pd.to_datetime, pd.to_timedelta and pd.to_numeric.\n",
      "  \n"
     ]
    }
   ],
   "source": [
    "tmp_df = pandas.DataFrame.copy(data) # To experiment without reloading data\n",
    "tmp_df = tmp_df.convert_objects(convert_numeric=True) # Change dtype"
   ]
  },
  {
   "cell_type": "code",
   "execution_count": 4,
   "metadata": {},
   "outputs": [
    {
     "data": {
      "text/html": [
       "<div>\n",
       "<style scoped>\n",
       "    .dataframe tbody tr th:only-of-type {\n",
       "        vertical-align: middle;\n",
       "    }\n",
       "\n",
       "    .dataframe tbody tr th {\n",
       "        vertical-align: top;\n",
       "    }\n",
       "\n",
       "    .dataframe thead th {\n",
       "        text-align: right;\n",
       "    }\n",
       "</style>\n",
       "<table border=\"1\" class=\"dataframe\">\n",
       "  <thead>\n",
       "    <tr style=\"text-align: right;\">\n",
       "      <th></th>\n",
       "      <th>Date</th>\n",
       "      <th>Time</th>\n",
       "      <th>Global_active_power</th>\n",
       "      <th>Global_reactive_power</th>\n",
       "      <th>Voltage</th>\n",
       "      <th>Global_intensity</th>\n",
       "      <th>Sub_metering_1</th>\n",
       "      <th>Sub_metering_2</th>\n",
       "      <th>Sub_metering_3</th>\n",
       "    </tr>\n",
       "  </thead>\n",
       "  <tbody>\n",
       "    <tr>\n",
       "      <th>0</th>\n",
       "      <td>16/12/2006</td>\n",
       "      <td>17:24:00</td>\n",
       "      <td>4.216</td>\n",
       "      <td>0.418</td>\n",
       "      <td>234.84</td>\n",
       "      <td>18.4</td>\n",
       "      <td>0.0</td>\n",
       "      <td>1.0</td>\n",
       "      <td>17.0</td>\n",
       "    </tr>\n",
       "    <tr>\n",
       "      <th>1</th>\n",
       "      <td>16/12/2006</td>\n",
       "      <td>17:25:00</td>\n",
       "      <td>5.360</td>\n",
       "      <td>0.436</td>\n",
       "      <td>233.63</td>\n",
       "      <td>23.0</td>\n",
       "      <td>0.0</td>\n",
       "      <td>1.0</td>\n",
       "      <td>16.0</td>\n",
       "    </tr>\n",
       "    <tr>\n",
       "      <th>2</th>\n",
       "      <td>16/12/2006</td>\n",
       "      <td>17:26:00</td>\n",
       "      <td>5.374</td>\n",
       "      <td>0.498</td>\n",
       "      <td>233.29</td>\n",
       "      <td>23.0</td>\n",
       "      <td>0.0</td>\n",
       "      <td>2.0</td>\n",
       "      <td>17.0</td>\n",
       "    </tr>\n",
       "    <tr>\n",
       "      <th>3</th>\n",
       "      <td>16/12/2006</td>\n",
       "      <td>17:27:00</td>\n",
       "      <td>5.388</td>\n",
       "      <td>0.502</td>\n",
       "      <td>233.74</td>\n",
       "      <td>23.0</td>\n",
       "      <td>0.0</td>\n",
       "      <td>1.0</td>\n",
       "      <td>17.0</td>\n",
       "    </tr>\n",
       "    <tr>\n",
       "      <th>4</th>\n",
       "      <td>16/12/2006</td>\n",
       "      <td>17:28:00</td>\n",
       "      <td>3.666</td>\n",
       "      <td>0.528</td>\n",
       "      <td>235.68</td>\n",
       "      <td>15.8</td>\n",
       "      <td>0.0</td>\n",
       "      <td>1.0</td>\n",
       "      <td>17.0</td>\n",
       "    </tr>\n",
       "  </tbody>\n",
       "</table>\n",
       "</div>"
      ],
      "text/plain": [
       "         Date      Time  Global_active_power  Global_reactive_power  Voltage  \\\n",
       "0  16/12/2006  17:24:00                4.216                  0.418   234.84   \n",
       "1  16/12/2006  17:25:00                5.360                  0.436   233.63   \n",
       "2  16/12/2006  17:26:00                5.374                  0.498   233.29   \n",
       "3  16/12/2006  17:27:00                5.388                  0.502   233.74   \n",
       "4  16/12/2006  17:28:00                3.666                  0.528   235.68   \n",
       "\n",
       "   Global_intensity  Sub_metering_1  Sub_metering_2  Sub_metering_3  \n",
       "0              18.4             0.0             1.0            17.0  \n",
       "1              23.0             0.0             1.0            16.0  \n",
       "2              23.0             0.0             2.0            17.0  \n",
       "3              23.0             0.0             1.0            17.0  \n",
       "4              15.8             0.0             1.0            17.0  "
      ]
     },
     "execution_count": 4,
     "metadata": {},
     "output_type": "execute_result"
    }
   ],
   "source": [
    "tmp_df.head()"
   ]
  },
  {
   "cell_type": "code",
   "execution_count": 5,
   "metadata": {},
   "outputs": [
    {
     "data": {
      "text/plain": [
       "Date                      object\n",
       "Time                      object\n",
       "Global_active_power      float64\n",
       "Global_reactive_power    float64\n",
       "Voltage                  float64\n",
       "Global_intensity         float64\n",
       "Sub_metering_1           float64\n",
       "Sub_metering_2           float64\n",
       "Sub_metering_3           float64\n",
       "dtype: object"
      ]
     },
     "execution_count": 5,
     "metadata": {},
     "output_type": "execute_result"
    }
   ],
   "source": [
    "tmp_df.dtypes # Looks good "
   ]
  },
  {
   "cell_type": "code",
   "execution_count": 6,
   "metadata": {},
   "outputs": [
    {
     "data": {
      "text/html": [
       "<div>\n",
       "<style scoped>\n",
       "    .dataframe tbody tr th:only-of-type {\n",
       "        vertical-align: middle;\n",
       "    }\n",
       "\n",
       "    .dataframe tbody tr th {\n",
       "        vertical-align: top;\n",
       "    }\n",
       "\n",
       "    .dataframe thead th {\n",
       "        text-align: right;\n",
       "    }\n",
       "</style>\n",
       "<table border=\"1\" class=\"dataframe\">\n",
       "  <thead>\n",
       "    <tr style=\"text-align: right;\">\n",
       "      <th></th>\n",
       "      <th>Global_active_power</th>\n",
       "      <th>Global_reactive_power</th>\n",
       "      <th>Voltage</th>\n",
       "      <th>Global_intensity</th>\n",
       "      <th>Sub_metering_1</th>\n",
       "      <th>Sub_metering_2</th>\n",
       "      <th>Sub_metering_3</th>\n",
       "    </tr>\n",
       "  </thead>\n",
       "  <tbody>\n",
       "    <tr>\n",
       "      <th>count</th>\n",
       "      <td>2.049280e+06</td>\n",
       "      <td>2.049280e+06</td>\n",
       "      <td>2.049280e+06</td>\n",
       "      <td>2.049280e+06</td>\n",
       "      <td>2.049280e+06</td>\n",
       "      <td>2.049280e+06</td>\n",
       "      <td>2.049280e+06</td>\n",
       "    </tr>\n",
       "    <tr>\n",
       "      <th>mean</th>\n",
       "      <td>1.091615e+00</td>\n",
       "      <td>1.237145e-01</td>\n",
       "      <td>2.408399e+02</td>\n",
       "      <td>4.627759e+00</td>\n",
       "      <td>1.121923e+00</td>\n",
       "      <td>1.298520e+00</td>\n",
       "      <td>6.458447e+00</td>\n",
       "    </tr>\n",
       "    <tr>\n",
       "      <th>std</th>\n",
       "      <td>1.057294e+00</td>\n",
       "      <td>1.127220e-01</td>\n",
       "      <td>3.239987e+00</td>\n",
       "      <td>4.444396e+00</td>\n",
       "      <td>6.153031e+00</td>\n",
       "      <td>5.822026e+00</td>\n",
       "      <td>8.437154e+00</td>\n",
       "    </tr>\n",
       "    <tr>\n",
       "      <th>min</th>\n",
       "      <td>7.600000e-02</td>\n",
       "      <td>0.000000e+00</td>\n",
       "      <td>2.232000e+02</td>\n",
       "      <td>2.000000e-01</td>\n",
       "      <td>0.000000e+00</td>\n",
       "      <td>0.000000e+00</td>\n",
       "      <td>0.000000e+00</td>\n",
       "    </tr>\n",
       "    <tr>\n",
       "      <th>25%</th>\n",
       "      <td>3.080000e-01</td>\n",
       "      <td>4.800000e-02</td>\n",
       "      <td>2.389900e+02</td>\n",
       "      <td>1.400000e+00</td>\n",
       "      <td>0.000000e+00</td>\n",
       "      <td>0.000000e+00</td>\n",
       "      <td>0.000000e+00</td>\n",
       "    </tr>\n",
       "    <tr>\n",
       "      <th>50%</th>\n",
       "      <td>6.020000e-01</td>\n",
       "      <td>1.000000e-01</td>\n",
       "      <td>2.410100e+02</td>\n",
       "      <td>2.600000e+00</td>\n",
       "      <td>0.000000e+00</td>\n",
       "      <td>0.000000e+00</td>\n",
       "      <td>1.000000e+00</td>\n",
       "    </tr>\n",
       "    <tr>\n",
       "      <th>75%</th>\n",
       "      <td>1.528000e+00</td>\n",
       "      <td>1.940000e-01</td>\n",
       "      <td>2.428900e+02</td>\n",
       "      <td>6.400000e+00</td>\n",
       "      <td>0.000000e+00</td>\n",
       "      <td>1.000000e+00</td>\n",
       "      <td>1.700000e+01</td>\n",
       "    </tr>\n",
       "    <tr>\n",
       "      <th>max</th>\n",
       "      <td>1.112200e+01</td>\n",
       "      <td>1.390000e+00</td>\n",
       "      <td>2.541500e+02</td>\n",
       "      <td>4.840000e+01</td>\n",
       "      <td>8.800000e+01</td>\n",
       "      <td>8.000000e+01</td>\n",
       "      <td>3.100000e+01</td>\n",
       "    </tr>\n",
       "  </tbody>\n",
       "</table>\n",
       "</div>"
      ],
      "text/plain": [
       "       Global_active_power  Global_reactive_power       Voltage  \\\n",
       "count         2.049280e+06           2.049280e+06  2.049280e+06   \n",
       "mean          1.091615e+00           1.237145e-01  2.408399e+02   \n",
       "std           1.057294e+00           1.127220e-01  3.239987e+00   \n",
       "min           7.600000e-02           0.000000e+00  2.232000e+02   \n",
       "25%           3.080000e-01           4.800000e-02  2.389900e+02   \n",
       "50%           6.020000e-01           1.000000e-01  2.410100e+02   \n",
       "75%           1.528000e+00           1.940000e-01  2.428900e+02   \n",
       "max           1.112200e+01           1.390000e+00  2.541500e+02   \n",
       "\n",
       "       Global_intensity  Sub_metering_1  Sub_metering_2  Sub_metering_3  \n",
       "count      2.049280e+06    2.049280e+06    2.049280e+06    2.049280e+06  \n",
       "mean       4.627759e+00    1.121923e+00    1.298520e+00    6.458447e+00  \n",
       "std        4.444396e+00    6.153031e+00    5.822026e+00    8.437154e+00  \n",
       "min        2.000000e-01    0.000000e+00    0.000000e+00    0.000000e+00  \n",
       "25%        1.400000e+00    0.000000e+00    0.000000e+00    0.000000e+00  \n",
       "50%        2.600000e+00    0.000000e+00    0.000000e+00    1.000000e+00  \n",
       "75%        6.400000e+00    0.000000e+00    1.000000e+00    1.700000e+01  \n",
       "max        4.840000e+01    8.800000e+01    8.000000e+01    3.100000e+01  "
      ]
     },
     "execution_count": 6,
     "metadata": {},
     "output_type": "execute_result"
    }
   ],
   "source": [
    "# Sanity check, nothing must change on sub_metering\n",
    "tmp_df.describe() "
   ]
  },
  {
   "cell_type": "code",
   "execution_count": 7,
   "metadata": {},
   "outputs": [
    {
     "data": {
      "text/plain": [
       "Date                     False\n",
       "Time                     False\n",
       "Global_active_power      False\n",
       "Global_reactive_power    False\n",
       "Voltage                  False\n",
       "Global_intensity         False\n",
       "Sub_metering_1           False\n",
       "Sub_metering_2           False\n",
       "Sub_metering_3            True\n",
       "dtype: bool"
      ]
     },
     "execution_count": 7,
     "metadata": {},
     "output_type": "execute_result"
    }
   ],
   "source": [
    "data.isna().any() # Doesn't detect Nan on april "
   ]
  },
  {
   "cell_type": "code",
   "execution_count": 8,
   "metadata": {},
   "outputs": [
    {
     "data": {
      "text/plain": [
       "0   1900-01-01 17:24:00\n",
       "1   1900-01-01 17:25:00\n",
       "2   1900-01-01 17:26:00\n",
       "3   1900-01-01 17:27:00\n",
       "4   1900-01-01 17:28:00\n",
       "Name: Time, dtype: datetime64[ns]"
      ]
     },
     "execution_count": 8,
     "metadata": {},
     "output_type": "execute_result"
    }
   ],
   "source": [
    "# Verify function\n",
    "pandas.to_datetime(tmp_df[\"Date\"], infer_datetime_format=True).head()\n",
    "pandas.to_datetime(tmp_df[\"Time\"], format=\"%H:%M:%S\").head()"
   ]
  },
  {
   "cell_type": "markdown",
   "metadata": {},
   "source": [
    "# Modify dtypes on data"
   ]
  },
  {
   "cell_type": "code",
   "execution_count": 9,
   "metadata": {},
   "outputs": [
    {
     "name": "stderr",
     "output_type": "stream",
     "text": [
      "/usr/local/lib/python3.5/dist-packages/ipykernel_launcher.py:1: FutureWarning: convert_objects is deprecated.  To re-infer data dtypes for object columns, use DataFrame.infer_objects()\n",
      "For all other conversions use the data-type specific converters pd.to_datetime, pd.to_timedelta and pd.to_numeric.\n",
      "  \"\"\"Entry point for launching an IPython kernel.\n"
     ]
    }
   ],
   "source": [
    "data = data.convert_objects(convert_numeric=True)\n",
    "data[\"Date\"] = pandas.to_datetime(data[\"Date\"], infer_datetime_format=True)\n",
    "data[\"Time\"] = pandas.to_datetime(data[\"Time\"], format=\"%H:%M:%S\") "
   ]
  },
  {
   "cell_type": "code",
   "execution_count": 10,
   "metadata": {},
   "outputs": [
    {
     "data": {
      "text/html": [
       "<div>\n",
       "<style scoped>\n",
       "    .dataframe tbody tr th:only-of-type {\n",
       "        vertical-align: middle;\n",
       "    }\n",
       "\n",
       "    .dataframe tbody tr th {\n",
       "        vertical-align: top;\n",
       "    }\n",
       "\n",
       "    .dataframe thead th {\n",
       "        text-align: right;\n",
       "    }\n",
       "</style>\n",
       "<table border=\"1\" class=\"dataframe\">\n",
       "  <thead>\n",
       "    <tr style=\"text-align: right;\">\n",
       "      <th></th>\n",
       "      <th>Date</th>\n",
       "      <th>Time</th>\n",
       "      <th>Global_active_power</th>\n",
       "      <th>Global_reactive_power</th>\n",
       "      <th>Voltage</th>\n",
       "      <th>Global_intensity</th>\n",
       "      <th>Sub_metering_1</th>\n",
       "      <th>Sub_metering_2</th>\n",
       "      <th>Sub_metering_3</th>\n",
       "    </tr>\n",
       "  </thead>\n",
       "  <tbody>\n",
       "    <tr>\n",
       "      <th>0</th>\n",
       "      <td>2006-12-16</td>\n",
       "      <td>1900-01-01 17:24:00</td>\n",
       "      <td>4.216</td>\n",
       "      <td>0.418</td>\n",
       "      <td>234.84</td>\n",
       "      <td>18.4</td>\n",
       "      <td>0.0</td>\n",
       "      <td>1.0</td>\n",
       "      <td>17.0</td>\n",
       "    </tr>\n",
       "    <tr>\n",
       "      <th>1</th>\n",
       "      <td>2006-12-16</td>\n",
       "      <td>1900-01-01 17:25:00</td>\n",
       "      <td>5.360</td>\n",
       "      <td>0.436</td>\n",
       "      <td>233.63</td>\n",
       "      <td>23.0</td>\n",
       "      <td>0.0</td>\n",
       "      <td>1.0</td>\n",
       "      <td>16.0</td>\n",
       "    </tr>\n",
       "    <tr>\n",
       "      <th>2</th>\n",
       "      <td>2006-12-16</td>\n",
       "      <td>1900-01-01 17:26:00</td>\n",
       "      <td>5.374</td>\n",
       "      <td>0.498</td>\n",
       "      <td>233.29</td>\n",
       "      <td>23.0</td>\n",
       "      <td>0.0</td>\n",
       "      <td>2.0</td>\n",
       "      <td>17.0</td>\n",
       "    </tr>\n",
       "    <tr>\n",
       "      <th>3</th>\n",
       "      <td>2006-12-16</td>\n",
       "      <td>1900-01-01 17:27:00</td>\n",
       "      <td>5.388</td>\n",
       "      <td>0.502</td>\n",
       "      <td>233.74</td>\n",
       "      <td>23.0</td>\n",
       "      <td>0.0</td>\n",
       "      <td>1.0</td>\n",
       "      <td>17.0</td>\n",
       "    </tr>\n",
       "    <tr>\n",
       "      <th>4</th>\n",
       "      <td>2006-12-16</td>\n",
       "      <td>1900-01-01 17:28:00</td>\n",
       "      <td>3.666</td>\n",
       "      <td>0.528</td>\n",
       "      <td>235.68</td>\n",
       "      <td>15.8</td>\n",
       "      <td>0.0</td>\n",
       "      <td>1.0</td>\n",
       "      <td>17.0</td>\n",
       "    </tr>\n",
       "    <tr>\n",
       "      <th>5</th>\n",
       "      <td>2006-12-16</td>\n",
       "      <td>1900-01-01 17:29:00</td>\n",
       "      <td>3.520</td>\n",
       "      <td>0.522</td>\n",
       "      <td>235.02</td>\n",
       "      <td>15.0</td>\n",
       "      <td>0.0</td>\n",
       "      <td>2.0</td>\n",
       "      <td>17.0</td>\n",
       "    </tr>\n",
       "    <tr>\n",
       "      <th>6</th>\n",
       "      <td>2006-12-16</td>\n",
       "      <td>1900-01-01 17:30:00</td>\n",
       "      <td>3.702</td>\n",
       "      <td>0.520</td>\n",
       "      <td>235.09</td>\n",
       "      <td>15.8</td>\n",
       "      <td>0.0</td>\n",
       "      <td>1.0</td>\n",
       "      <td>17.0</td>\n",
       "    </tr>\n",
       "    <tr>\n",
       "      <th>7</th>\n",
       "      <td>2006-12-16</td>\n",
       "      <td>1900-01-01 17:31:00</td>\n",
       "      <td>3.700</td>\n",
       "      <td>0.520</td>\n",
       "      <td>235.22</td>\n",
       "      <td>15.8</td>\n",
       "      <td>0.0</td>\n",
       "      <td>1.0</td>\n",
       "      <td>17.0</td>\n",
       "    </tr>\n",
       "    <tr>\n",
       "      <th>8</th>\n",
       "      <td>2006-12-16</td>\n",
       "      <td>1900-01-01 17:32:00</td>\n",
       "      <td>3.668</td>\n",
       "      <td>0.510</td>\n",
       "      <td>233.99</td>\n",
       "      <td>15.8</td>\n",
       "      <td>0.0</td>\n",
       "      <td>1.0</td>\n",
       "      <td>17.0</td>\n",
       "    </tr>\n",
       "    <tr>\n",
       "      <th>9</th>\n",
       "      <td>2006-12-16</td>\n",
       "      <td>1900-01-01 17:33:00</td>\n",
       "      <td>3.662</td>\n",
       "      <td>0.510</td>\n",
       "      <td>233.86</td>\n",
       "      <td>15.8</td>\n",
       "      <td>0.0</td>\n",
       "      <td>2.0</td>\n",
       "      <td>16.0</td>\n",
       "    </tr>\n",
       "    <tr>\n",
       "      <th>10</th>\n",
       "      <td>2006-12-16</td>\n",
       "      <td>1900-01-01 17:34:00</td>\n",
       "      <td>4.448</td>\n",
       "      <td>0.498</td>\n",
       "      <td>232.86</td>\n",
       "      <td>19.6</td>\n",
       "      <td>0.0</td>\n",
       "      <td>1.0</td>\n",
       "      <td>17.0</td>\n",
       "    </tr>\n",
       "    <tr>\n",
       "      <th>11</th>\n",
       "      <td>2006-12-16</td>\n",
       "      <td>1900-01-01 17:35:00</td>\n",
       "      <td>5.412</td>\n",
       "      <td>0.470</td>\n",
       "      <td>232.78</td>\n",
       "      <td>23.2</td>\n",
       "      <td>0.0</td>\n",
       "      <td>1.0</td>\n",
       "      <td>17.0</td>\n",
       "    </tr>\n",
       "    <tr>\n",
       "      <th>12</th>\n",
       "      <td>2006-12-16</td>\n",
       "      <td>1900-01-01 17:36:00</td>\n",
       "      <td>5.224</td>\n",
       "      <td>0.478</td>\n",
       "      <td>232.99</td>\n",
       "      <td>22.4</td>\n",
       "      <td>0.0</td>\n",
       "      <td>1.0</td>\n",
       "      <td>16.0</td>\n",
       "    </tr>\n",
       "    <tr>\n",
       "      <th>13</th>\n",
       "      <td>2006-12-16</td>\n",
       "      <td>1900-01-01 17:37:00</td>\n",
       "      <td>5.268</td>\n",
       "      <td>0.398</td>\n",
       "      <td>232.91</td>\n",
       "      <td>22.6</td>\n",
       "      <td>0.0</td>\n",
       "      <td>2.0</td>\n",
       "      <td>17.0</td>\n",
       "    </tr>\n",
       "    <tr>\n",
       "      <th>14</th>\n",
       "      <td>2006-12-16</td>\n",
       "      <td>1900-01-01 17:38:00</td>\n",
       "      <td>4.054</td>\n",
       "      <td>0.422</td>\n",
       "      <td>235.24</td>\n",
       "      <td>17.6</td>\n",
       "      <td>0.0</td>\n",
       "      <td>1.0</td>\n",
       "      <td>17.0</td>\n",
       "    </tr>\n",
       "    <tr>\n",
       "      <th>15</th>\n",
       "      <td>2006-12-16</td>\n",
       "      <td>1900-01-01 17:39:00</td>\n",
       "      <td>3.384</td>\n",
       "      <td>0.282</td>\n",
       "      <td>237.14</td>\n",
       "      <td>14.2</td>\n",
       "      <td>0.0</td>\n",
       "      <td>0.0</td>\n",
       "      <td>17.0</td>\n",
       "    </tr>\n",
       "    <tr>\n",
       "      <th>16</th>\n",
       "      <td>2006-12-16</td>\n",
       "      <td>1900-01-01 17:40:00</td>\n",
       "      <td>3.270</td>\n",
       "      <td>0.152</td>\n",
       "      <td>236.73</td>\n",
       "      <td>13.8</td>\n",
       "      <td>0.0</td>\n",
       "      <td>0.0</td>\n",
       "      <td>17.0</td>\n",
       "    </tr>\n",
       "    <tr>\n",
       "      <th>17</th>\n",
       "      <td>2006-12-16</td>\n",
       "      <td>1900-01-01 17:41:00</td>\n",
       "      <td>3.430</td>\n",
       "      <td>0.156</td>\n",
       "      <td>237.06</td>\n",
       "      <td>14.4</td>\n",
       "      <td>0.0</td>\n",
       "      <td>0.0</td>\n",
       "      <td>17.0</td>\n",
       "    </tr>\n",
       "    <tr>\n",
       "      <th>18</th>\n",
       "      <td>2006-12-16</td>\n",
       "      <td>1900-01-01 17:42:00</td>\n",
       "      <td>3.266</td>\n",
       "      <td>0.000</td>\n",
       "      <td>237.13</td>\n",
       "      <td>13.8</td>\n",
       "      <td>0.0</td>\n",
       "      <td>0.0</td>\n",
       "      <td>18.0</td>\n",
       "    </tr>\n",
       "    <tr>\n",
       "      <th>19</th>\n",
       "      <td>2006-12-16</td>\n",
       "      <td>1900-01-01 17:43:00</td>\n",
       "      <td>3.728</td>\n",
       "      <td>0.000</td>\n",
       "      <td>235.84</td>\n",
       "      <td>16.4</td>\n",
       "      <td>0.0</td>\n",
       "      <td>0.0</td>\n",
       "      <td>17.0</td>\n",
       "    </tr>\n",
       "    <tr>\n",
       "      <th>20</th>\n",
       "      <td>2006-12-16</td>\n",
       "      <td>1900-01-01 17:44:00</td>\n",
       "      <td>5.894</td>\n",
       "      <td>0.000</td>\n",
       "      <td>232.69</td>\n",
       "      <td>25.4</td>\n",
       "      <td>0.0</td>\n",
       "      <td>0.0</td>\n",
       "      <td>16.0</td>\n",
       "    </tr>\n",
       "    <tr>\n",
       "      <th>21</th>\n",
       "      <td>2006-12-16</td>\n",
       "      <td>1900-01-01 17:45:00</td>\n",
       "      <td>7.706</td>\n",
       "      <td>0.000</td>\n",
       "      <td>230.98</td>\n",
       "      <td>33.2</td>\n",
       "      <td>0.0</td>\n",
       "      <td>0.0</td>\n",
       "      <td>17.0</td>\n",
       "    </tr>\n",
       "    <tr>\n",
       "      <th>22</th>\n",
       "      <td>2006-12-16</td>\n",
       "      <td>1900-01-01 17:46:00</td>\n",
       "      <td>7.026</td>\n",
       "      <td>0.000</td>\n",
       "      <td>232.21</td>\n",
       "      <td>30.6</td>\n",
       "      <td>0.0</td>\n",
       "      <td>0.0</td>\n",
       "      <td>16.0</td>\n",
       "    </tr>\n",
       "    <tr>\n",
       "      <th>23</th>\n",
       "      <td>2006-12-16</td>\n",
       "      <td>1900-01-01 17:47:00</td>\n",
       "      <td>5.174</td>\n",
       "      <td>0.000</td>\n",
       "      <td>234.19</td>\n",
       "      <td>22.0</td>\n",
       "      <td>0.0</td>\n",
       "      <td>0.0</td>\n",
       "      <td>17.0</td>\n",
       "    </tr>\n",
       "    <tr>\n",
       "      <th>24</th>\n",
       "      <td>2006-12-16</td>\n",
       "      <td>1900-01-01 17:48:00</td>\n",
       "      <td>4.474</td>\n",
       "      <td>0.000</td>\n",
       "      <td>234.96</td>\n",
       "      <td>19.4</td>\n",
       "      <td>0.0</td>\n",
       "      <td>0.0</td>\n",
       "      <td>17.0</td>\n",
       "    </tr>\n",
       "    <tr>\n",
       "      <th>25</th>\n",
       "      <td>2006-12-16</td>\n",
       "      <td>1900-01-01 17:49:00</td>\n",
       "      <td>3.248</td>\n",
       "      <td>0.000</td>\n",
       "      <td>236.66</td>\n",
       "      <td>13.6</td>\n",
       "      <td>0.0</td>\n",
       "      <td>0.0</td>\n",
       "      <td>17.0</td>\n",
       "    </tr>\n",
       "    <tr>\n",
       "      <th>26</th>\n",
       "      <td>2006-12-16</td>\n",
       "      <td>1900-01-01 17:50:00</td>\n",
       "      <td>3.236</td>\n",
       "      <td>0.000</td>\n",
       "      <td>235.84</td>\n",
       "      <td>13.6</td>\n",
       "      <td>0.0</td>\n",
       "      <td>0.0</td>\n",
       "      <td>17.0</td>\n",
       "    </tr>\n",
       "    <tr>\n",
       "      <th>27</th>\n",
       "      <td>2006-12-16</td>\n",
       "      <td>1900-01-01 17:51:00</td>\n",
       "      <td>3.228</td>\n",
       "      <td>0.000</td>\n",
       "      <td>235.60</td>\n",
       "      <td>13.6</td>\n",
       "      <td>0.0</td>\n",
       "      <td>0.0</td>\n",
       "      <td>17.0</td>\n",
       "    </tr>\n",
       "    <tr>\n",
       "      <th>28</th>\n",
       "      <td>2006-12-16</td>\n",
       "      <td>1900-01-01 17:52:00</td>\n",
       "      <td>3.258</td>\n",
       "      <td>0.000</td>\n",
       "      <td>235.49</td>\n",
       "      <td>13.8</td>\n",
       "      <td>0.0</td>\n",
       "      <td>0.0</td>\n",
       "      <td>17.0</td>\n",
       "    </tr>\n",
       "    <tr>\n",
       "      <th>29</th>\n",
       "      <td>2006-12-16</td>\n",
       "      <td>1900-01-01 17:53:00</td>\n",
       "      <td>3.178</td>\n",
       "      <td>0.000</td>\n",
       "      <td>235.28</td>\n",
       "      <td>13.4</td>\n",
       "      <td>0.0</td>\n",
       "      <td>0.0</td>\n",
       "      <td>17.0</td>\n",
       "    </tr>\n",
       "    <tr>\n",
       "      <th>...</th>\n",
       "      <td>...</td>\n",
       "      <td>...</td>\n",
       "      <td>...</td>\n",
       "      <td>...</td>\n",
       "      <td>...</td>\n",
       "      <td>...</td>\n",
       "      <td>...</td>\n",
       "      <td>...</td>\n",
       "      <td>...</td>\n",
       "    </tr>\n",
       "    <tr>\n",
       "      <th>70</th>\n",
       "      <td>2006-12-16</td>\n",
       "      <td>1900-01-01 18:34:00</td>\n",
       "      <td>3.538</td>\n",
       "      <td>0.086</td>\n",
       "      <td>233.76</td>\n",
       "      <td>15.6</td>\n",
       "      <td>0.0</td>\n",
       "      <td>1.0</td>\n",
       "      <td>16.0</td>\n",
       "    </tr>\n",
       "    <tr>\n",
       "      <th>71</th>\n",
       "      <td>2006-12-16</td>\n",
       "      <td>1900-01-01 18:35:00</td>\n",
       "      <td>6.072</td>\n",
       "      <td>0.000</td>\n",
       "      <td>232.48</td>\n",
       "      <td>26.4</td>\n",
       "      <td>0.0</td>\n",
       "      <td>27.0</td>\n",
       "      <td>17.0</td>\n",
       "    </tr>\n",
       "    <tr>\n",
       "      <th>72</th>\n",
       "      <td>2006-12-16</td>\n",
       "      <td>1900-01-01 18:36:00</td>\n",
       "      <td>4.536</td>\n",
       "      <td>0.000</td>\n",
       "      <td>233.54</td>\n",
       "      <td>19.4</td>\n",
       "      <td>0.0</td>\n",
       "      <td>1.0</td>\n",
       "      <td>17.0</td>\n",
       "    </tr>\n",
       "    <tr>\n",
       "      <th>73</th>\n",
       "      <td>2006-12-16</td>\n",
       "      <td>1900-01-01 18:37:00</td>\n",
       "      <td>4.408</td>\n",
       "      <td>0.000</td>\n",
       "      <td>232.32</td>\n",
       "      <td>18.8</td>\n",
       "      <td>0.0</td>\n",
       "      <td>1.0</td>\n",
       "      <td>16.0</td>\n",
       "    </tr>\n",
       "    <tr>\n",
       "      <th>74</th>\n",
       "      <td>2006-12-16</td>\n",
       "      <td>1900-01-01 18:38:00</td>\n",
       "      <td>2.912</td>\n",
       "      <td>0.048</td>\n",
       "      <td>234.02</td>\n",
       "      <td>13.0</td>\n",
       "      <td>0.0</td>\n",
       "      <td>1.0</td>\n",
       "      <td>17.0</td>\n",
       "    </tr>\n",
       "    <tr>\n",
       "      <th>75</th>\n",
       "      <td>2006-12-16</td>\n",
       "      <td>1900-01-01 18:39:00</td>\n",
       "      <td>2.326</td>\n",
       "      <td>0.054</td>\n",
       "      <td>234.76</td>\n",
       "      <td>9.8</td>\n",
       "      <td>0.0</td>\n",
       "      <td>1.0</td>\n",
       "      <td>17.0</td>\n",
       "    </tr>\n",
       "    <tr>\n",
       "      <th>76</th>\n",
       "      <td>2006-12-16</td>\n",
       "      <td>1900-01-01 18:40:00</td>\n",
       "      <td>2.264</td>\n",
       "      <td>0.054</td>\n",
       "      <td>234.67</td>\n",
       "      <td>9.6</td>\n",
       "      <td>0.0</td>\n",
       "      <td>1.0</td>\n",
       "      <td>17.0</td>\n",
       "    </tr>\n",
       "    <tr>\n",
       "      <th>77</th>\n",
       "      <td>2006-12-16</td>\n",
       "      <td>1900-01-01 18:41:00</td>\n",
       "      <td>2.270</td>\n",
       "      <td>0.054</td>\n",
       "      <td>235.27</td>\n",
       "      <td>9.6</td>\n",
       "      <td>0.0</td>\n",
       "      <td>1.0</td>\n",
       "      <td>17.0</td>\n",
       "    </tr>\n",
       "    <tr>\n",
       "      <th>78</th>\n",
       "      <td>2006-12-16</td>\n",
       "      <td>1900-01-01 18:42:00</td>\n",
       "      <td>2.258</td>\n",
       "      <td>0.054</td>\n",
       "      <td>235.12</td>\n",
       "      <td>9.6</td>\n",
       "      <td>0.0</td>\n",
       "      <td>1.0</td>\n",
       "      <td>17.0</td>\n",
       "    </tr>\n",
       "    <tr>\n",
       "      <th>79</th>\n",
       "      <td>2006-12-16</td>\n",
       "      <td>1900-01-01 18:43:00</td>\n",
       "      <td>2.188</td>\n",
       "      <td>0.068</td>\n",
       "      <td>235.80</td>\n",
       "      <td>9.2</td>\n",
       "      <td>0.0</td>\n",
       "      <td>1.0</td>\n",
       "      <td>17.0</td>\n",
       "    </tr>\n",
       "    <tr>\n",
       "      <th>80</th>\n",
       "      <td>2006-12-16</td>\n",
       "      <td>1900-01-01 18:44:00</td>\n",
       "      <td>2.978</td>\n",
       "      <td>0.166</td>\n",
       "      <td>234.81</td>\n",
       "      <td>13.2</td>\n",
       "      <td>0.0</td>\n",
       "      <td>1.0</td>\n",
       "      <td>17.0</td>\n",
       "    </tr>\n",
       "    <tr>\n",
       "      <th>81</th>\n",
       "      <td>2006-12-16</td>\n",
       "      <td>1900-01-01 18:45:00</td>\n",
       "      <td>4.200</td>\n",
       "      <td>0.174</td>\n",
       "      <td>234.38</td>\n",
       "      <td>17.8</td>\n",
       "      <td>0.0</td>\n",
       "      <td>1.0</td>\n",
       "      <td>17.0</td>\n",
       "    </tr>\n",
       "    <tr>\n",
       "      <th>82</th>\n",
       "      <td>2006-12-16</td>\n",
       "      <td>1900-01-01 18:46:00</td>\n",
       "      <td>4.204</td>\n",
       "      <td>0.186</td>\n",
       "      <td>234.20</td>\n",
       "      <td>17.8</td>\n",
       "      <td>0.0</td>\n",
       "      <td>1.0</td>\n",
       "      <td>16.0</td>\n",
       "    </tr>\n",
       "    <tr>\n",
       "      <th>83</th>\n",
       "      <td>2006-12-16</td>\n",
       "      <td>1900-01-01 18:47:00</td>\n",
       "      <td>4.218</td>\n",
       "      <td>0.178</td>\n",
       "      <td>233.98</td>\n",
       "      <td>18.0</td>\n",
       "      <td>0.0</td>\n",
       "      <td>1.0</td>\n",
       "      <td>17.0</td>\n",
       "    </tr>\n",
       "    <tr>\n",
       "      <th>84</th>\n",
       "      <td>2006-12-16</td>\n",
       "      <td>1900-01-01 18:48:00</td>\n",
       "      <td>2.786</td>\n",
       "      <td>0.188</td>\n",
       "      <td>234.99</td>\n",
       "      <td>12.0</td>\n",
       "      <td>0.0</td>\n",
       "      <td>2.0</td>\n",
       "      <td>17.0</td>\n",
       "    </tr>\n",
       "    <tr>\n",
       "      <th>85</th>\n",
       "      <td>2006-12-16</td>\n",
       "      <td>1900-01-01 18:49:00</td>\n",
       "      <td>2.540</td>\n",
       "      <td>0.088</td>\n",
       "      <td>234.67</td>\n",
       "      <td>10.8</td>\n",
       "      <td>0.0</td>\n",
       "      <td>4.0</td>\n",
       "      <td>17.0</td>\n",
       "    </tr>\n",
       "    <tr>\n",
       "      <th>86</th>\n",
       "      <td>2006-12-16</td>\n",
       "      <td>1900-01-01 18:50:00</td>\n",
       "      <td>2.496</td>\n",
       "      <td>0.080</td>\n",
       "      <td>233.92</td>\n",
       "      <td>10.6</td>\n",
       "      <td>0.0</td>\n",
       "      <td>3.0</td>\n",
       "      <td>17.0</td>\n",
       "    </tr>\n",
       "    <tr>\n",
       "      <th>87</th>\n",
       "      <td>2006-12-16</td>\n",
       "      <td>1900-01-01 18:51:00</td>\n",
       "      <td>2.336</td>\n",
       "      <td>0.070</td>\n",
       "      <td>233.51</td>\n",
       "      <td>10.0</td>\n",
       "      <td>0.0</td>\n",
       "      <td>1.0</td>\n",
       "      <td>16.0</td>\n",
       "    </tr>\n",
       "    <tr>\n",
       "      <th>88</th>\n",
       "      <td>2006-12-16</td>\n",
       "      <td>1900-01-01 18:52:00</td>\n",
       "      <td>2.322</td>\n",
       "      <td>0.000</td>\n",
       "      <td>233.44</td>\n",
       "      <td>9.8</td>\n",
       "      <td>0.0</td>\n",
       "      <td>0.0</td>\n",
       "      <td>17.0</td>\n",
       "    </tr>\n",
       "    <tr>\n",
       "      <th>89</th>\n",
       "      <td>2006-12-16</td>\n",
       "      <td>1900-01-01 18:53:00</td>\n",
       "      <td>2.448</td>\n",
       "      <td>0.000</td>\n",
       "      <td>233.64</td>\n",
       "      <td>10.6</td>\n",
       "      <td>0.0</td>\n",
       "      <td>1.0</td>\n",
       "      <td>17.0</td>\n",
       "    </tr>\n",
       "    <tr>\n",
       "      <th>90</th>\n",
       "      <td>2006-12-16</td>\n",
       "      <td>1900-01-01 18:54:00</td>\n",
       "      <td>4.298</td>\n",
       "      <td>0.000</td>\n",
       "      <td>232.39</td>\n",
       "      <td>18.4</td>\n",
       "      <td>0.0</td>\n",
       "      <td>1.0</td>\n",
       "      <td>16.0</td>\n",
       "    </tr>\n",
       "    <tr>\n",
       "      <th>91</th>\n",
       "      <td>2006-12-16</td>\n",
       "      <td>1900-01-01 18:55:00</td>\n",
       "      <td>4.230</td>\n",
       "      <td>0.090</td>\n",
       "      <td>232.25</td>\n",
       "      <td>18.2</td>\n",
       "      <td>0.0</td>\n",
       "      <td>1.0</td>\n",
       "      <td>17.0</td>\n",
       "    </tr>\n",
       "    <tr>\n",
       "      <th>92</th>\n",
       "      <td>2006-12-16</td>\n",
       "      <td>1900-01-01 18:56:00</td>\n",
       "      <td>4.230</td>\n",
       "      <td>0.090</td>\n",
       "      <td>232.32</td>\n",
       "      <td>18.2</td>\n",
       "      <td>0.0</td>\n",
       "      <td>2.0</td>\n",
       "      <td>16.0</td>\n",
       "    </tr>\n",
       "    <tr>\n",
       "      <th>93</th>\n",
       "      <td>2006-12-16</td>\n",
       "      <td>1900-01-01 18:57:00</td>\n",
       "      <td>3.924</td>\n",
       "      <td>0.084</td>\n",
       "      <td>232.79</td>\n",
       "      <td>17.0</td>\n",
       "      <td>0.0</td>\n",
       "      <td>1.0</td>\n",
       "      <td>17.0</td>\n",
       "    </tr>\n",
       "    <tr>\n",
       "      <th>94</th>\n",
       "      <td>2006-12-16</td>\n",
       "      <td>1900-01-01 18:58:00</td>\n",
       "      <td>4.218</td>\n",
       "      <td>0.090</td>\n",
       "      <td>232.09</td>\n",
       "      <td>18.0</td>\n",
       "      <td>0.0</td>\n",
       "      <td>1.0</td>\n",
       "      <td>17.0</td>\n",
       "    </tr>\n",
       "    <tr>\n",
       "      <th>95</th>\n",
       "      <td>2006-12-16</td>\n",
       "      <td>1900-01-01 18:59:00</td>\n",
       "      <td>4.224</td>\n",
       "      <td>0.090</td>\n",
       "      <td>231.96</td>\n",
       "      <td>18.2</td>\n",
       "      <td>0.0</td>\n",
       "      <td>1.0</td>\n",
       "      <td>16.0</td>\n",
       "    </tr>\n",
       "    <tr>\n",
       "      <th>96</th>\n",
       "      <td>2006-12-16</td>\n",
       "      <td>1900-01-01 19:00:00</td>\n",
       "      <td>4.070</td>\n",
       "      <td>0.088</td>\n",
       "      <td>231.99</td>\n",
       "      <td>17.4</td>\n",
       "      <td>0.0</td>\n",
       "      <td>1.0</td>\n",
       "      <td>17.0</td>\n",
       "    </tr>\n",
       "    <tr>\n",
       "      <th>97</th>\n",
       "      <td>2006-12-16</td>\n",
       "      <td>1900-01-01 19:01:00</td>\n",
       "      <td>3.612</td>\n",
       "      <td>0.090</td>\n",
       "      <td>232.36</td>\n",
       "      <td>15.6</td>\n",
       "      <td>0.0</td>\n",
       "      <td>2.0</td>\n",
       "      <td>16.0</td>\n",
       "    </tr>\n",
       "    <tr>\n",
       "      <th>98</th>\n",
       "      <td>2006-12-16</td>\n",
       "      <td>1900-01-01 19:02:00</td>\n",
       "      <td>3.458</td>\n",
       "      <td>0.090</td>\n",
       "      <td>232.71</td>\n",
       "      <td>14.8</td>\n",
       "      <td>0.0</td>\n",
       "      <td>1.0</td>\n",
       "      <td>17.0</td>\n",
       "    </tr>\n",
       "    <tr>\n",
       "      <th>99</th>\n",
       "      <td>2006-12-16</td>\n",
       "      <td>1900-01-01 19:03:00</td>\n",
       "      <td>3.434</td>\n",
       "      <td>0.090</td>\n",
       "      <td>232.01</td>\n",
       "      <td>14.8</td>\n",
       "      <td>0.0</td>\n",
       "      <td>1.0</td>\n",
       "      <td>16.0</td>\n",
       "    </tr>\n",
       "  </tbody>\n",
       "</table>\n",
       "<p>100 rows × 9 columns</p>\n",
       "</div>"
      ],
      "text/plain": [
       "         Date                Time  Global_active_power  Global_reactive_power  \\\n",
       "0  2006-12-16 1900-01-01 17:24:00                4.216                  0.418   \n",
       "1  2006-12-16 1900-01-01 17:25:00                5.360                  0.436   \n",
       "2  2006-12-16 1900-01-01 17:26:00                5.374                  0.498   \n",
       "3  2006-12-16 1900-01-01 17:27:00                5.388                  0.502   \n",
       "4  2006-12-16 1900-01-01 17:28:00                3.666                  0.528   \n",
       "5  2006-12-16 1900-01-01 17:29:00                3.520                  0.522   \n",
       "6  2006-12-16 1900-01-01 17:30:00                3.702                  0.520   \n",
       "7  2006-12-16 1900-01-01 17:31:00                3.700                  0.520   \n",
       "8  2006-12-16 1900-01-01 17:32:00                3.668                  0.510   \n",
       "9  2006-12-16 1900-01-01 17:33:00                3.662                  0.510   \n",
       "10 2006-12-16 1900-01-01 17:34:00                4.448                  0.498   \n",
       "11 2006-12-16 1900-01-01 17:35:00                5.412                  0.470   \n",
       "12 2006-12-16 1900-01-01 17:36:00                5.224                  0.478   \n",
       "13 2006-12-16 1900-01-01 17:37:00                5.268                  0.398   \n",
       "14 2006-12-16 1900-01-01 17:38:00                4.054                  0.422   \n",
       "15 2006-12-16 1900-01-01 17:39:00                3.384                  0.282   \n",
       "16 2006-12-16 1900-01-01 17:40:00                3.270                  0.152   \n",
       "17 2006-12-16 1900-01-01 17:41:00                3.430                  0.156   \n",
       "18 2006-12-16 1900-01-01 17:42:00                3.266                  0.000   \n",
       "19 2006-12-16 1900-01-01 17:43:00                3.728                  0.000   \n",
       "20 2006-12-16 1900-01-01 17:44:00                5.894                  0.000   \n",
       "21 2006-12-16 1900-01-01 17:45:00                7.706                  0.000   \n",
       "22 2006-12-16 1900-01-01 17:46:00                7.026                  0.000   \n",
       "23 2006-12-16 1900-01-01 17:47:00                5.174                  0.000   \n",
       "24 2006-12-16 1900-01-01 17:48:00                4.474                  0.000   \n",
       "25 2006-12-16 1900-01-01 17:49:00                3.248                  0.000   \n",
       "26 2006-12-16 1900-01-01 17:50:00                3.236                  0.000   \n",
       "27 2006-12-16 1900-01-01 17:51:00                3.228                  0.000   \n",
       "28 2006-12-16 1900-01-01 17:52:00                3.258                  0.000   \n",
       "29 2006-12-16 1900-01-01 17:53:00                3.178                  0.000   \n",
       "..        ...                 ...                  ...                    ...   \n",
       "70 2006-12-16 1900-01-01 18:34:00                3.538                  0.086   \n",
       "71 2006-12-16 1900-01-01 18:35:00                6.072                  0.000   \n",
       "72 2006-12-16 1900-01-01 18:36:00                4.536                  0.000   \n",
       "73 2006-12-16 1900-01-01 18:37:00                4.408                  0.000   \n",
       "74 2006-12-16 1900-01-01 18:38:00                2.912                  0.048   \n",
       "75 2006-12-16 1900-01-01 18:39:00                2.326                  0.054   \n",
       "76 2006-12-16 1900-01-01 18:40:00                2.264                  0.054   \n",
       "77 2006-12-16 1900-01-01 18:41:00                2.270                  0.054   \n",
       "78 2006-12-16 1900-01-01 18:42:00                2.258                  0.054   \n",
       "79 2006-12-16 1900-01-01 18:43:00                2.188                  0.068   \n",
       "80 2006-12-16 1900-01-01 18:44:00                2.978                  0.166   \n",
       "81 2006-12-16 1900-01-01 18:45:00                4.200                  0.174   \n",
       "82 2006-12-16 1900-01-01 18:46:00                4.204                  0.186   \n",
       "83 2006-12-16 1900-01-01 18:47:00                4.218                  0.178   \n",
       "84 2006-12-16 1900-01-01 18:48:00                2.786                  0.188   \n",
       "85 2006-12-16 1900-01-01 18:49:00                2.540                  0.088   \n",
       "86 2006-12-16 1900-01-01 18:50:00                2.496                  0.080   \n",
       "87 2006-12-16 1900-01-01 18:51:00                2.336                  0.070   \n",
       "88 2006-12-16 1900-01-01 18:52:00                2.322                  0.000   \n",
       "89 2006-12-16 1900-01-01 18:53:00                2.448                  0.000   \n",
       "90 2006-12-16 1900-01-01 18:54:00                4.298                  0.000   \n",
       "91 2006-12-16 1900-01-01 18:55:00                4.230                  0.090   \n",
       "92 2006-12-16 1900-01-01 18:56:00                4.230                  0.090   \n",
       "93 2006-12-16 1900-01-01 18:57:00                3.924                  0.084   \n",
       "94 2006-12-16 1900-01-01 18:58:00                4.218                  0.090   \n",
       "95 2006-12-16 1900-01-01 18:59:00                4.224                  0.090   \n",
       "96 2006-12-16 1900-01-01 19:00:00                4.070                  0.088   \n",
       "97 2006-12-16 1900-01-01 19:01:00                3.612                  0.090   \n",
       "98 2006-12-16 1900-01-01 19:02:00                3.458                  0.090   \n",
       "99 2006-12-16 1900-01-01 19:03:00                3.434                  0.090   \n",
       "\n",
       "    Voltage  Global_intensity  Sub_metering_1  Sub_metering_2  Sub_metering_3  \n",
       "0    234.84              18.4             0.0             1.0            17.0  \n",
       "1    233.63              23.0             0.0             1.0            16.0  \n",
       "2    233.29              23.0             0.0             2.0            17.0  \n",
       "3    233.74              23.0             0.0             1.0            17.0  \n",
       "4    235.68              15.8             0.0             1.0            17.0  \n",
       "5    235.02              15.0             0.0             2.0            17.0  \n",
       "6    235.09              15.8             0.0             1.0            17.0  \n",
       "7    235.22              15.8             0.0             1.0            17.0  \n",
       "8    233.99              15.8             0.0             1.0            17.0  \n",
       "9    233.86              15.8             0.0             2.0            16.0  \n",
       "10   232.86              19.6             0.0             1.0            17.0  \n",
       "11   232.78              23.2             0.0             1.0            17.0  \n",
       "12   232.99              22.4             0.0             1.0            16.0  \n",
       "13   232.91              22.6             0.0             2.0            17.0  \n",
       "14   235.24              17.6             0.0             1.0            17.0  \n",
       "15   237.14              14.2             0.0             0.0            17.0  \n",
       "16   236.73              13.8             0.0             0.0            17.0  \n",
       "17   237.06              14.4             0.0             0.0            17.0  \n",
       "18   237.13              13.8             0.0             0.0            18.0  \n",
       "19   235.84              16.4             0.0             0.0            17.0  \n",
       "20   232.69              25.4             0.0             0.0            16.0  \n",
       "21   230.98              33.2             0.0             0.0            17.0  \n",
       "22   232.21              30.6             0.0             0.0            16.0  \n",
       "23   234.19              22.0             0.0             0.0            17.0  \n",
       "24   234.96              19.4             0.0             0.0            17.0  \n",
       "25   236.66              13.6             0.0             0.0            17.0  \n",
       "26   235.84              13.6             0.0             0.0            17.0  \n",
       "27   235.60              13.6             0.0             0.0            17.0  \n",
       "28   235.49              13.8             0.0             0.0            17.0  \n",
       "29   235.28              13.4             0.0             0.0            17.0  \n",
       "..      ...               ...             ...             ...             ...  \n",
       "70   233.76              15.6             0.0             1.0            16.0  \n",
       "71   232.48              26.4             0.0            27.0            17.0  \n",
       "72   233.54              19.4             0.0             1.0            17.0  \n",
       "73   232.32              18.8             0.0             1.0            16.0  \n",
       "74   234.02              13.0             0.0             1.0            17.0  \n",
       "75   234.76               9.8             0.0             1.0            17.0  \n",
       "76   234.67               9.6             0.0             1.0            17.0  \n",
       "77   235.27               9.6             0.0             1.0            17.0  \n",
       "78   235.12               9.6             0.0             1.0            17.0  \n",
       "79   235.80               9.2             0.0             1.0            17.0  \n",
       "80   234.81              13.2             0.0             1.0            17.0  \n",
       "81   234.38              17.8             0.0             1.0            17.0  \n",
       "82   234.20              17.8             0.0             1.0            16.0  \n",
       "83   233.98              18.0             0.0             1.0            17.0  \n",
       "84   234.99              12.0             0.0             2.0            17.0  \n",
       "85   234.67              10.8             0.0             4.0            17.0  \n",
       "86   233.92              10.6             0.0             3.0            17.0  \n",
       "87   233.51              10.0             0.0             1.0            16.0  \n",
       "88   233.44               9.8             0.0             0.0            17.0  \n",
       "89   233.64              10.6             0.0             1.0            17.0  \n",
       "90   232.39              18.4             0.0             1.0            16.0  \n",
       "91   232.25              18.2             0.0             1.0            17.0  \n",
       "92   232.32              18.2             0.0             2.0            16.0  \n",
       "93   232.79              17.0             0.0             1.0            17.0  \n",
       "94   232.09              18.0             0.0             1.0            17.0  \n",
       "95   231.96              18.2             0.0             1.0            16.0  \n",
       "96   231.99              17.4             0.0             1.0            17.0  \n",
       "97   232.36              15.6             0.0             2.0            16.0  \n",
       "98   232.71              14.8             0.0             1.0            17.0  \n",
       "99   232.01              14.8             0.0             1.0            16.0  \n",
       "\n",
       "[100 rows x 9 columns]"
      ]
     },
     "execution_count": 10,
     "metadata": {},
     "output_type": "execute_result"
    }
   ],
   "source": [
    "data[:100]"
   ]
  },
  {
   "cell_type": "code",
   "execution_count": 11,
   "metadata": {},
   "outputs": [
    {
     "data": {
      "text/plain": [
       "Date                     False\n",
       "Time                     False\n",
       "Global_active_power       True\n",
       "Global_reactive_power     True\n",
       "Voltage                   True\n",
       "Global_intensity          True\n",
       "Sub_metering_1            True\n",
       "Sub_metering_2            True\n",
       "Sub_metering_3            True\n",
       "dtype: bool"
      ]
     },
     "execution_count": 11,
     "metadata": {},
     "output_type": "execute_result"
    }
   ],
   "source": [
    "data.isna().any() # detects Nan on april "
   ]
  },
  {
   "cell_type": "code",
   "execution_count": 12,
   "metadata": {},
   "outputs": [
    {
     "data": {
      "text/plain": [
       "Date                     datetime64[ns]\n",
       "Time                     datetime64[ns]\n",
       "Global_active_power             float64\n",
       "Global_reactive_power           float64\n",
       "Voltage                         float64\n",
       "Global_intensity                float64\n",
       "Sub_metering_1                  float64\n",
       "Sub_metering_2                  float64\n",
       "Sub_metering_3                  float64\n",
       "dtype: object"
      ]
     },
     "execution_count": 12,
     "metadata": {},
     "output_type": "execute_result"
    }
   ],
   "source": [
    "data.dtypes"
   ]
  },
  {
   "cell_type": "code",
   "execution_count": 13,
   "metadata": {},
   "outputs": [
    {
     "data": {
      "text/html": [
       "<div>\n",
       "<style scoped>\n",
       "    .dataframe tbody tr th:only-of-type {\n",
       "        vertical-align: middle;\n",
       "    }\n",
       "\n",
       "    .dataframe tbody tr th {\n",
       "        vertical-align: top;\n",
       "    }\n",
       "\n",
       "    .dataframe thead th {\n",
       "        text-align: right;\n",
       "    }\n",
       "</style>\n",
       "<table border=\"1\" class=\"dataframe\">\n",
       "  <thead>\n",
       "    <tr style=\"text-align: right;\">\n",
       "      <th></th>\n",
       "      <th>Date</th>\n",
       "      <th>Time</th>\n",
       "      <th>Global_active_power</th>\n",
       "      <th>Global_reactive_power</th>\n",
       "      <th>Voltage</th>\n",
       "      <th>Global_intensity</th>\n",
       "      <th>Sub_metering_1</th>\n",
       "      <th>Sub_metering_2</th>\n",
       "      <th>Sub_metering_3</th>\n",
       "      <th>active_consumption</th>\n",
       "    </tr>\n",
       "  </thead>\n",
       "  <tbody>\n",
       "    <tr>\n",
       "      <th>0</th>\n",
       "      <td>2006-12-16</td>\n",
       "      <td>1900-01-01 17:24:00</td>\n",
       "      <td>4.216</td>\n",
       "      <td>0.418</td>\n",
       "      <td>234.84</td>\n",
       "      <td>18.4</td>\n",
       "      <td>0.0</td>\n",
       "      <td>1.0</td>\n",
       "      <td>17.0</td>\n",
       "      <td>-10.973333</td>\n",
       "    </tr>\n",
       "    <tr>\n",
       "      <th>1</th>\n",
       "      <td>2006-12-16</td>\n",
       "      <td>1900-01-01 17:25:00</td>\n",
       "      <td>5.360</td>\n",
       "      <td>0.436</td>\n",
       "      <td>233.63</td>\n",
       "      <td>23.0</td>\n",
       "      <td>0.0</td>\n",
       "      <td>1.0</td>\n",
       "      <td>16.0</td>\n",
       "      <td>-8.066667</td>\n",
       "    </tr>\n",
       "    <tr>\n",
       "      <th>2</th>\n",
       "      <td>2006-12-16</td>\n",
       "      <td>1900-01-01 17:26:00</td>\n",
       "      <td>5.374</td>\n",
       "      <td>0.498</td>\n",
       "      <td>233.29</td>\n",
       "      <td>23.0</td>\n",
       "      <td>0.0</td>\n",
       "      <td>2.0</td>\n",
       "      <td>17.0</td>\n",
       "      <td>-10.043333</td>\n",
       "    </tr>\n",
       "    <tr>\n",
       "      <th>3</th>\n",
       "      <td>2006-12-16</td>\n",
       "      <td>1900-01-01 17:27:00</td>\n",
       "      <td>5.388</td>\n",
       "      <td>0.502</td>\n",
       "      <td>233.74</td>\n",
       "      <td>23.0</td>\n",
       "      <td>0.0</td>\n",
       "      <td>1.0</td>\n",
       "      <td>17.0</td>\n",
       "      <td>-9.020000</td>\n",
       "    </tr>\n",
       "    <tr>\n",
       "      <th>4</th>\n",
       "      <td>2006-12-16</td>\n",
       "      <td>1900-01-01 17:28:00</td>\n",
       "      <td>3.666</td>\n",
       "      <td>0.528</td>\n",
       "      <td>235.68</td>\n",
       "      <td>15.8</td>\n",
       "      <td>0.0</td>\n",
       "      <td>1.0</td>\n",
       "      <td>17.0</td>\n",
       "      <td>-11.890000</td>\n",
       "    </tr>\n",
       "  </tbody>\n",
       "</table>\n",
       "</div>"
      ],
      "text/plain": [
       "        Date                Time  Global_active_power  Global_reactive_power  \\\n",
       "0 2006-12-16 1900-01-01 17:24:00                4.216                  0.418   \n",
       "1 2006-12-16 1900-01-01 17:25:00                5.360                  0.436   \n",
       "2 2006-12-16 1900-01-01 17:26:00                5.374                  0.498   \n",
       "3 2006-12-16 1900-01-01 17:27:00                5.388                  0.502   \n",
       "4 2006-12-16 1900-01-01 17:28:00                3.666                  0.528   \n",
       "\n",
       "   Voltage  Global_intensity  Sub_metering_1  Sub_metering_2  Sub_metering_3  \\\n",
       "0   234.84              18.4             0.0             1.0            17.0   \n",
       "1   233.63              23.0             0.0             1.0            16.0   \n",
       "2   233.29              23.0             0.0             2.0            17.0   \n",
       "3   233.74              23.0             0.0             1.0            17.0   \n",
       "4   235.68              15.8             0.0             1.0            17.0   \n",
       "\n",
       "   active_consumption  \n",
       "0          -10.973333  \n",
       "1           -8.066667  \n",
       "2          -10.043333  \n",
       "3           -9.020000  \n",
       "4          -11.890000  "
      ]
     },
     "execution_count": 13,
     "metadata": {},
     "output_type": "execute_result"
    }
   ],
   "source": [
    "data[\"active_consumption\"] = data[\"Global_active_power\"] * 100 / 60 - data[\"Sub_metering_1\"] \\\n",
    "                            - data[\"Sub_metering_2\"]\\\n",
    "                            - data[\"Sub_metering_3\"]\n",
    "data.head() # CF formula of problem's description"
   ]
  },
  {
   "cell_type": "markdown",
   "metadata": {},
   "source": [
    "# Data Set Information:\n",
    "\n",
    "Abstract: Measurements of electric power consumption in one household with a one-minute sampling rate over a period of almost 4 years. Different electrical quantities and some sub-metering values are available.\n",
    "\n",
    "\n",
    "\n",
    "\n",
    "\n",
    "This archive contains 2075259 measurements gathered in a house located in Sceaux (7km of Paris, France) between December 2006 and November 2010 (47 months). \n",
    "\n",
    "Notes: \n",
    "\n",
    "* 1.$(global\\_active\\_power*1000/60 - sub\\_metering_1 - sub\\_metering_2 - sub\\_metering_3)$ represents the active energy consumed every minute (in watt hour) in the household by electrical equipment not measured in sub-meterings 1, 2 and 3. \n",
    "* 2.The dataset contains some missing values in the measurements (nearly 1,25% of the rows). All calendar timestamps are present in the dataset but for some timestamps, the measurement values are missing: a missing value is represented by the absence of value between two consecutive semi-colon attribute separators. For instance, the dataset shows missing values on April 28, 2007.\n",
    "\n",
    "\n",
    "# Attribute Information:\n",
    "\n",
    "* 1.date: Date in format dd/mm/yyyy \n",
    "* 2.time: time in format hh:mm:ss \n",
    "* 3.global_active_power: household global minute-averaged active power (in kilowatt) \n",
    "* 4.global_reactive_power: household global minute-averaged reactive power (in kilowatt) \n",
    "* 5.voltage: minute-averaged voltage (in volt) \n",
    "* 6.global_intensity: household global minute-averaged current intensity (in ampere) \n",
    "* 7.sub_metering_1: energy sub-metering No. 1 (in watt-hour of active energy). It corresponds to the kitchen, containing mainly a dishwasher, an oven and a microwave (hot plates are not electric but gas powered). \n",
    "* 8.sub_metering_2: energy sub-metering No. 2 (in watt-hour of active energy). It corresponds to the laundry room, containing a washing-machine, a tumble-drier, a refrigerator and a light. \n",
    "* 9.sub_metering_3: energy sub-metering No. 3 (in watt-hour of active energy). It corresponds to an electric water-heater and an air-conditioner.\n",
    "\n"
   ]
  },
  {
   "cell_type": "markdown",
   "metadata": {},
   "source": [
    "Active vs reactive ?\n",
    "\n",
    "https://www.allaboutcircuits.com/textbook/alternating-current/chpt-11/true-reactive-and-apparent-power/\n",
    "https://circuitglobe.com/what-is-active-reactive-and-apparent-power.html"
   ]
  },
  {
   "cell_type": "markdown",
   "metadata": {},
   "source": [
    "# Analyze and experiment on data"
   ]
  },
  {
   "cell_type": "code",
   "execution_count": 14,
   "metadata": {},
   "outputs": [
    {
     "name": "stdout",
     "output_type": "stream",
     "text": [
      "(2075259, 10)\n",
      "0   2006-12-16\n",
      "Name: Date, dtype: datetime64[ns]\n",
      "2075258   2010-11-26\n",
      "Name: Date, dtype: datetime64[ns]\n"
     ]
    }
   ],
   "source": [
    " # Do we have all informations\n",
    "print(data.shape)\n",
    "print(data[:1][\"Date\"])\n",
    "print(data[-1:][\"Date\"])"
   ]
  },
  {
   "cell_type": "code",
   "execution_count": 15,
   "metadata": {},
   "outputs": [
    {
     "name": "stdout",
     "output_type": "stream",
     "text": [
      "<class 'pandas.core.frame.DataFrame'>\n",
      "RangeIndex: 2075259 entries, 0 to 2075258\n",
      "Data columns (total 10 columns):\n",
      "Date                     datetime64[ns]\n",
      "Time                     datetime64[ns]\n",
      "Global_active_power      float64\n",
      "Global_reactive_power    float64\n",
      "Voltage                  float64\n",
      "Global_intensity         float64\n",
      "Sub_metering_1           float64\n",
      "Sub_metering_2           float64\n",
      "Sub_metering_3           float64\n",
      "active_consumption       float64\n",
      "dtypes: datetime64[ns](2), float64(8)\n",
      "memory usage: 158.3 MB\n"
     ]
    }
   ],
   "source": [
    "data.info()"
   ]
  },
  {
   "cell_type": "code",
   "execution_count": 16,
   "metadata": {},
   "outputs": [
    {
     "data": {
      "text/html": [
       "<div>\n",
       "<style scoped>\n",
       "    .dataframe tbody tr th:only-of-type {\n",
       "        vertical-align: middle;\n",
       "    }\n",
       "\n",
       "    .dataframe tbody tr th {\n",
       "        vertical-align: top;\n",
       "    }\n",
       "\n",
       "    .dataframe thead th {\n",
       "        text-align: right;\n",
       "    }\n",
       "</style>\n",
       "<table border=\"1\" class=\"dataframe\">\n",
       "  <thead>\n",
       "    <tr style=\"text-align: right;\">\n",
       "      <th></th>\n",
       "      <th>Date</th>\n",
       "      <th>Time</th>\n",
       "      <th>Global_active_power</th>\n",
       "      <th>Global_reactive_power</th>\n",
       "      <th>Voltage</th>\n",
       "      <th>Global_intensity</th>\n",
       "      <th>Sub_metering_1</th>\n",
       "      <th>Sub_metering_2</th>\n",
       "      <th>Sub_metering_3</th>\n",
       "      <th>active_consumption</th>\n",
       "    </tr>\n",
       "  </thead>\n",
       "  <tbody>\n",
       "    <tr>\n",
       "      <th>191000</th>\n",
       "      <td>2007-04-28</td>\n",
       "      <td>1900-01-01 08:44:00</td>\n",
       "      <td>NaN</td>\n",
       "      <td>NaN</td>\n",
       "      <td>NaN</td>\n",
       "      <td>NaN</td>\n",
       "      <td>NaN</td>\n",
       "      <td>NaN</td>\n",
       "      <td>NaN</td>\n",
       "      <td>NaN</td>\n",
       "    </tr>\n",
       "    <tr>\n",
       "      <th>191001</th>\n",
       "      <td>2007-04-28</td>\n",
       "      <td>1900-01-01 08:45:00</td>\n",
       "      <td>NaN</td>\n",
       "      <td>NaN</td>\n",
       "      <td>NaN</td>\n",
       "      <td>NaN</td>\n",
       "      <td>NaN</td>\n",
       "      <td>NaN</td>\n",
       "      <td>NaN</td>\n",
       "      <td>NaN</td>\n",
       "    </tr>\n",
       "    <tr>\n",
       "      <th>191002</th>\n",
       "      <td>2007-04-28</td>\n",
       "      <td>1900-01-01 08:46:00</td>\n",
       "      <td>NaN</td>\n",
       "      <td>NaN</td>\n",
       "      <td>NaN</td>\n",
       "      <td>NaN</td>\n",
       "      <td>NaN</td>\n",
       "      <td>NaN</td>\n",
       "      <td>NaN</td>\n",
       "      <td>NaN</td>\n",
       "    </tr>\n",
       "    <tr>\n",
       "      <th>191003</th>\n",
       "      <td>2007-04-28</td>\n",
       "      <td>1900-01-01 08:47:00</td>\n",
       "      <td>NaN</td>\n",
       "      <td>NaN</td>\n",
       "      <td>NaN</td>\n",
       "      <td>NaN</td>\n",
       "      <td>NaN</td>\n",
       "      <td>NaN</td>\n",
       "      <td>NaN</td>\n",
       "      <td>NaN</td>\n",
       "    </tr>\n",
       "    <tr>\n",
       "      <th>191004</th>\n",
       "      <td>2007-04-28</td>\n",
       "      <td>1900-01-01 08:48:00</td>\n",
       "      <td>NaN</td>\n",
       "      <td>NaN</td>\n",
       "      <td>NaN</td>\n",
       "      <td>NaN</td>\n",
       "      <td>NaN</td>\n",
       "      <td>NaN</td>\n",
       "      <td>NaN</td>\n",
       "      <td>NaN</td>\n",
       "    </tr>\n",
       "  </tbody>\n",
       "</table>\n",
       "</div>"
      ],
      "text/plain": [
       "             Date                Time  Global_active_power  \\\n",
       "191000 2007-04-28 1900-01-01 08:44:00                  NaN   \n",
       "191001 2007-04-28 1900-01-01 08:45:00                  NaN   \n",
       "191002 2007-04-28 1900-01-01 08:46:00                  NaN   \n",
       "191003 2007-04-28 1900-01-01 08:47:00                  NaN   \n",
       "191004 2007-04-28 1900-01-01 08:48:00                  NaN   \n",
       "\n",
       "        Global_reactive_power  Voltage  Global_intensity  Sub_metering_1  \\\n",
       "191000                    NaN      NaN               NaN             NaN   \n",
       "191001                    NaN      NaN               NaN             NaN   \n",
       "191002                    NaN      NaN               NaN             NaN   \n",
       "191003                    NaN      NaN               NaN             NaN   \n",
       "191004                    NaN      NaN               NaN             NaN   \n",
       "\n",
       "        Sub_metering_2  Sub_metering_3  active_consumption  \n",
       "191000             NaN             NaN                 NaN  \n",
       "191001             NaN             NaN                 NaN  \n",
       "191002             NaN             NaN                 NaN  \n",
       "191003             NaN             NaN                 NaN  \n",
       "191004             NaN             NaN                 NaN  "
      ]
     },
     "execution_count": 16,
     "metadata": {},
     "output_type": "execute_result"
    }
   ],
   "source": [
    "data[191000:].head()"
   ]
  },
  {
   "cell_type": "code",
   "execution_count": 17,
   "metadata": {},
   "outputs": [
    {
     "data": {
      "text/plain": [
       "(25979, array([   6839,    6840,   19724, ..., 1990187, 1990188, 2027411]))"
      ]
     },
     "execution_count": 17,
     "metadata": {},
     "output_type": "execute_result"
    }
   ],
   "source": [
    "# Retrieve NA -> Requires modification\n",
    "indices_na = np.where(data['Sub_metering_3'].isna())[0]\n",
    "len(indices_na), indices_na"
   ]
  },
  {
   "cell_type": "code",
   "execution_count": 18,
   "metadata": {},
   "outputs": [
    {
     "data": {
      "text/plain": [
       "(25979, array([   6839,    6840,   19724, ..., 1990187, 1990188, 2027411]))"
      ]
     },
     "execution_count": 18,
     "metadata": {},
     "output_type": "execute_result"
    }
   ],
   "source": [
    "# Retrieve NA on Voltage -> Requires deletion\n",
    "indices_drop = np.where(data['Voltage'].isna())[0]\n",
    "len(indices_drop), indices_drop"
   ]
  },
  {
   "cell_type": "code",
   "execution_count": 19,
   "metadata": {},
   "outputs": [
    {
     "data": {
      "text/plain": [
       "25979"
      ]
     },
     "execution_count": 19,
     "metadata": {},
     "output_type": "execute_result"
    }
   ],
   "source": [
    "np.sum((indices_na == indices_drop)) # Same array -> Drop"
   ]
  },
  {
   "cell_type": "code",
   "execution_count": 20,
   "metadata": {},
   "outputs": [
    {
     "data": {
      "text/plain": [
       "Date                     datetime64[ns]\n",
       "Time                     datetime64[ns]\n",
       "Global_active_power             float64\n",
       "Global_reactive_power           float64\n",
       "Voltage                         float64\n",
       "Global_intensity                float64\n",
       "Sub_metering_1                  float64\n",
       "Sub_metering_2                  float64\n",
       "Sub_metering_3                  float64\n",
       "active_consumption              float64\n",
       "dtype: object"
      ]
     },
     "execution_count": 20,
     "metadata": {},
     "output_type": "execute_result"
    }
   ],
   "source": [
    "data.dtypes"
   ]
  },
  {
   "cell_type": "code",
   "execution_count": 21,
   "metadata": {},
   "outputs": [
    {
     "data": {
      "text/plain": [
       "98.7481562542314"
      ]
     },
     "execution_count": 21,
     "metadata": {},
     "output_type": "execute_result"
    }
   ],
   "source": [
    "data.drop(indices_na).shape[0] / tmp_df.shape[0] * 100 # drop 1.25% as expected"
   ]
  },
  {
   "cell_type": "code",
   "execution_count": 22,
   "metadata": {},
   "outputs": [
    {
     "data": {
      "text/html": [
       "<div>\n",
       "<style scoped>\n",
       "    .dataframe tbody tr th:only-of-type {\n",
       "        vertical-align: middle;\n",
       "    }\n",
       "\n",
       "    .dataframe tbody tr th {\n",
       "        vertical-align: top;\n",
       "    }\n",
       "\n",
       "    .dataframe thead th {\n",
       "        text-align: right;\n",
       "    }\n",
       "</style>\n",
       "<table border=\"1\" class=\"dataframe\">\n",
       "  <thead>\n",
       "    <tr style=\"text-align: right;\">\n",
       "      <th></th>\n",
       "      <th>Date</th>\n",
       "      <th>Time</th>\n",
       "      <th>Global_active_power</th>\n",
       "      <th>Global_reactive_power</th>\n",
       "      <th>Voltage</th>\n",
       "      <th>Global_intensity</th>\n",
       "      <th>Sub_metering_1</th>\n",
       "      <th>Sub_metering_2</th>\n",
       "      <th>Sub_metering_3</th>\n",
       "      <th>active_consumption</th>\n",
       "    </tr>\n",
       "  </thead>\n",
       "  <tbody>\n",
       "    <tr>\n",
       "      <th>0</th>\n",
       "      <td>2006-12-16</td>\n",
       "      <td>1900-01-01 17:24:00</td>\n",
       "      <td>4.216</td>\n",
       "      <td>0.418</td>\n",
       "      <td>234.84</td>\n",
       "      <td>18.4</td>\n",
       "      <td>0.0</td>\n",
       "      <td>1.0</td>\n",
       "      <td>17.0</td>\n",
       "      <td>-10.973333</td>\n",
       "    </tr>\n",
       "    <tr>\n",
       "      <th>1</th>\n",
       "      <td>2006-12-16</td>\n",
       "      <td>1900-01-01 17:25:00</td>\n",
       "      <td>5.360</td>\n",
       "      <td>0.436</td>\n",
       "      <td>233.63</td>\n",
       "      <td>23.0</td>\n",
       "      <td>0.0</td>\n",
       "      <td>1.0</td>\n",
       "      <td>16.0</td>\n",
       "      <td>-8.066667</td>\n",
       "    </tr>\n",
       "    <tr>\n",
       "      <th>2</th>\n",
       "      <td>2006-12-16</td>\n",
       "      <td>1900-01-01 17:26:00</td>\n",
       "      <td>5.374</td>\n",
       "      <td>0.498</td>\n",
       "      <td>233.29</td>\n",
       "      <td>23.0</td>\n",
       "      <td>0.0</td>\n",
       "      <td>2.0</td>\n",
       "      <td>17.0</td>\n",
       "      <td>-10.043333</td>\n",
       "    </tr>\n",
       "    <tr>\n",
       "      <th>3</th>\n",
       "      <td>2006-12-16</td>\n",
       "      <td>1900-01-01 17:27:00</td>\n",
       "      <td>5.388</td>\n",
       "      <td>0.502</td>\n",
       "      <td>233.74</td>\n",
       "      <td>23.0</td>\n",
       "      <td>0.0</td>\n",
       "      <td>1.0</td>\n",
       "      <td>17.0</td>\n",
       "      <td>-9.020000</td>\n",
       "    </tr>\n",
       "    <tr>\n",
       "      <th>4</th>\n",
       "      <td>2006-12-16</td>\n",
       "      <td>1900-01-01 17:28:00</td>\n",
       "      <td>3.666</td>\n",
       "      <td>0.528</td>\n",
       "      <td>235.68</td>\n",
       "      <td>15.8</td>\n",
       "      <td>0.0</td>\n",
       "      <td>1.0</td>\n",
       "      <td>17.0</td>\n",
       "      <td>-11.890000</td>\n",
       "    </tr>\n",
       "  </tbody>\n",
       "</table>\n",
       "</div>"
      ],
      "text/plain": [
       "        Date                Time  Global_active_power  Global_reactive_power  \\\n",
       "0 2006-12-16 1900-01-01 17:24:00                4.216                  0.418   \n",
       "1 2006-12-16 1900-01-01 17:25:00                5.360                  0.436   \n",
       "2 2006-12-16 1900-01-01 17:26:00                5.374                  0.498   \n",
       "3 2006-12-16 1900-01-01 17:27:00                5.388                  0.502   \n",
       "4 2006-12-16 1900-01-01 17:28:00                3.666                  0.528   \n",
       "\n",
       "   Voltage  Global_intensity  Sub_metering_1  Sub_metering_2  Sub_metering_3  \\\n",
       "0   234.84              18.4             0.0             1.0            17.0   \n",
       "1   233.63              23.0             0.0             1.0            16.0   \n",
       "2   233.29              23.0             0.0             2.0            17.0   \n",
       "3   233.74              23.0             0.0             1.0            17.0   \n",
       "4   235.68              15.8             0.0             1.0            17.0   \n",
       "\n",
       "   active_consumption  \n",
       "0          -10.973333  \n",
       "1           -8.066667  \n",
       "2          -10.043333  \n",
       "3           -9.020000  \n",
       "4          -11.890000  "
      ]
     },
     "execution_count": 22,
     "metadata": {},
     "output_type": "execute_result"
    }
   ],
   "source": [
    "data.drop(indices_na, inplace = True)\n",
    "data.head()"
   ]
  },
  {
   "cell_type": "code",
   "execution_count": 23,
   "metadata": {},
   "outputs": [
    {
     "data": {
      "text/html": [
       "<div>\n",
       "<style scoped>\n",
       "    .dataframe tbody tr th:only-of-type {\n",
       "        vertical-align: middle;\n",
       "    }\n",
       "\n",
       "    .dataframe tbody tr th {\n",
       "        vertical-align: top;\n",
       "    }\n",
       "\n",
       "    .dataframe thead th {\n",
       "        text-align: right;\n",
       "    }\n",
       "</style>\n",
       "<table border=\"1\" class=\"dataframe\">\n",
       "  <thead>\n",
       "    <tr style=\"text-align: right;\">\n",
       "      <th></th>\n",
       "      <th>Global_active_power</th>\n",
       "      <th>Global_reactive_power</th>\n",
       "      <th>Voltage</th>\n",
       "      <th>Global_intensity</th>\n",
       "      <th>Sub_metering_1</th>\n",
       "      <th>Sub_metering_2</th>\n",
       "      <th>Sub_metering_3</th>\n",
       "      <th>active_consumption</th>\n",
       "    </tr>\n",
       "  </thead>\n",
       "  <tbody>\n",
       "    <tr>\n",
       "      <th>count</th>\n",
       "      <td>2.049280e+06</td>\n",
       "      <td>2.049280e+06</td>\n",
       "      <td>2.049280e+06</td>\n",
       "      <td>2.049280e+06</td>\n",
       "      <td>2.049280e+06</td>\n",
       "      <td>2.049280e+06</td>\n",
       "      <td>2.049280e+06</td>\n",
       "      <td>2.049280e+06</td>\n",
       "    </tr>\n",
       "    <tr>\n",
       "      <th>mean</th>\n",
       "      <td>1.091615e+00</td>\n",
       "      <td>1.237145e-01</td>\n",
       "      <td>2.408399e+02</td>\n",
       "      <td>4.627759e+00</td>\n",
       "      <td>1.121923e+00</td>\n",
       "      <td>1.298520e+00</td>\n",
       "      <td>6.458447e+00</td>\n",
       "      <td>-7.059532e+00</td>\n",
       "    </tr>\n",
       "    <tr>\n",
       "      <th>std</th>\n",
       "      <td>1.057294e+00</td>\n",
       "      <td>1.127220e-01</td>\n",
       "      <td>3.239987e+00</td>\n",
       "      <td>4.444396e+00</td>\n",
       "      <td>6.153031e+00</td>\n",
       "      <td>5.822026e+00</td>\n",
       "      <td>8.437154e+00</td>\n",
       "      <td>1.140847e+01</td>\n",
       "    </tr>\n",
       "    <tr>\n",
       "      <th>min</th>\n",
       "      <td>7.600000e-02</td>\n",
       "      <td>0.000000e+00</td>\n",
       "      <td>2.232000e+02</td>\n",
       "      <td>2.000000e-01</td>\n",
       "      <td>0.000000e+00</td>\n",
       "      <td>0.000000e+00</td>\n",
       "      <td>0.000000e+00</td>\n",
       "      <td>-1.198200e+02</td>\n",
       "    </tr>\n",
       "    <tr>\n",
       "      <th>25%</th>\n",
       "      <td>3.080000e-01</td>\n",
       "      <td>4.800000e-02</td>\n",
       "      <td>2.389900e+02</td>\n",
       "      <td>1.400000e+00</td>\n",
       "      <td>0.000000e+00</td>\n",
       "      <td>0.000000e+00</td>\n",
       "      <td>0.000000e+00</td>\n",
       "      <td>-1.512000e+01</td>\n",
       "    </tr>\n",
       "    <tr>\n",
       "      <th>50%</th>\n",
       "      <td>6.020000e-01</td>\n",
       "      <td>1.000000e-01</td>\n",
       "      <td>2.410100e+02</td>\n",
       "      <td>2.600000e+00</td>\n",
       "      <td>0.000000e+00</td>\n",
       "      <td>0.000000e+00</td>\n",
       "      <td>1.000000e+00</td>\n",
       "      <td>-6.466667e-01</td>\n",
       "    </tr>\n",
       "    <tr>\n",
       "      <th>75%</th>\n",
       "      <td>1.528000e+00</td>\n",
       "      <td>1.940000e-01</td>\n",
       "      <td>2.428900e+02</td>\n",
       "      <td>6.400000e+00</td>\n",
       "      <td>0.000000e+00</td>\n",
       "      <td>1.000000e+00</td>\n",
       "      <td>1.700000e+01</td>\n",
       "      <td>3.866667e-01</td>\n",
       "    </tr>\n",
       "    <tr>\n",
       "      <th>max</th>\n",
       "      <td>1.112200e+01</td>\n",
       "      <td>1.390000e+00</td>\n",
       "      <td>2.541500e+02</td>\n",
       "      <td>4.840000e+01</td>\n",
       "      <td>8.800000e+01</td>\n",
       "      <td>8.000000e+01</td>\n",
       "      <td>3.100000e+01</td>\n",
       "      <td>1.221667e+01</td>\n",
       "    </tr>\n",
       "  </tbody>\n",
       "</table>\n",
       "</div>"
      ],
      "text/plain": [
       "       Global_active_power  Global_reactive_power       Voltage  \\\n",
       "count         2.049280e+06           2.049280e+06  2.049280e+06   \n",
       "mean          1.091615e+00           1.237145e-01  2.408399e+02   \n",
       "std           1.057294e+00           1.127220e-01  3.239987e+00   \n",
       "min           7.600000e-02           0.000000e+00  2.232000e+02   \n",
       "25%           3.080000e-01           4.800000e-02  2.389900e+02   \n",
       "50%           6.020000e-01           1.000000e-01  2.410100e+02   \n",
       "75%           1.528000e+00           1.940000e-01  2.428900e+02   \n",
       "max           1.112200e+01           1.390000e+00  2.541500e+02   \n",
       "\n",
       "       Global_intensity  Sub_metering_1  Sub_metering_2  Sub_metering_3  \\\n",
       "count      2.049280e+06    2.049280e+06    2.049280e+06    2.049280e+06   \n",
       "mean       4.627759e+00    1.121923e+00    1.298520e+00    6.458447e+00   \n",
       "std        4.444396e+00    6.153031e+00    5.822026e+00    8.437154e+00   \n",
       "min        2.000000e-01    0.000000e+00    0.000000e+00    0.000000e+00   \n",
       "25%        1.400000e+00    0.000000e+00    0.000000e+00    0.000000e+00   \n",
       "50%        2.600000e+00    0.000000e+00    0.000000e+00    1.000000e+00   \n",
       "75%        6.400000e+00    0.000000e+00    1.000000e+00    1.700000e+01   \n",
       "max        4.840000e+01    8.800000e+01    8.000000e+01    3.100000e+01   \n",
       "\n",
       "       active_consumption  \n",
       "count        2.049280e+06  \n",
       "mean        -7.059532e+00  \n",
       "std          1.140847e+01  \n",
       "min         -1.198200e+02  \n",
       "25%         -1.512000e+01  \n",
       "50%         -6.466667e-01  \n",
       "75%          3.866667e-01  \n",
       "max          1.221667e+01  "
      ]
     },
     "execution_count": 23,
     "metadata": {},
     "output_type": "execute_result"
    }
   ],
   "source": [
    "data.describe()"
   ]
  },
  {
   "cell_type": "code",
   "execution_count": 24,
   "metadata": {},
   "outputs": [
    {
     "data": {
      "text/plain": [
       "Date                     False\n",
       "Time                     False\n",
       "Global_active_power      False\n",
       "Global_reactive_power    False\n",
       "Voltage                  False\n",
       "Global_intensity         False\n",
       "Sub_metering_1           False\n",
       "Sub_metering_2           False\n",
       "Sub_metering_3           False\n",
       "active_consumption       False\n",
       "dtype: bool"
      ]
     },
     "execution_count": 24,
     "metadata": {},
     "output_type": "execute_result"
    }
   ],
   "source": [
    "data.isna().any()  # Looks good"
   ]
  },
  {
   "cell_type": "markdown",
   "metadata": {},
   "source": [
    "\n",
    "# Vizualisation (looking for ideas)"
   ]
  },
  {
   "cell_type": "code",
   "execution_count": 25,
   "metadata": {},
   "outputs": [
    {
     "data": {
      "image/png": "[encoded data removed]",
      "text/plain": [
       "<Figure size 432x288 with 1 Axes>"
      ]
     },
     "metadata": {
      "needs_background": "light"
     },
     "output_type": "display_data"
    },
    {
     "data": {
      "image/png": "[encoded data removed]",
      "text/plain": [
       "<Figure size 432x288 with 1 Axes>"
      ]
     },
     "metadata": {
      "needs_background": "light"
     },
     "output_type": "display_data"
    },
    {
     "data": {
      "image/png": "[encoded data removed]",
      "text/plain": [
       "<Figure size 432x288 with 1 Axes>"
      ]
     },
     "metadata": {
      "needs_background": "light"
     },
     "output_type": "display_data"
    },
    {
     "data": {
      "image/png": "[encoded data removed]",
      "text/plain": [
       "<Figure size 432x288 with 1 Axes>"
      ]
     },
     "metadata": {
      "needs_background": "light"
     },
     "output_type": "display_data"
    }
   ],
   "source": [
    "rang = 1000\n",
    "for i in range(4):\n",
    "\n",
    "    plt.plot(range(1000), data[\"Global_active_power\"][rang:rang + 1000])\n",
    "    rang += 1000\n",
    "    plt.show()"
   ]
  },
  {
   "cell_type": "code",
   "execution_count": 26,
   "metadata": {},
   "outputs": [
    {
     "data": {
      "image/png": "[encoded data removed]",
      "text/plain": [
       "<Figure size 432x288 with 1 Axes>"
      ]
     },
     "metadata": {
      "needs_background": "light"
     },
     "output_type": "display_data"
    }
   ],
   "source": [
    "\n",
    "plt.plot(range(rang), data[\"Global_reactive_power\"][:rang])\n",
    "plt.show()"
   ]
  },
  {
   "cell_type": "code",
   "execution_count": 27,
   "metadata": {},
   "outputs": [
    {
     "data": {
      "image/png": "[encoded data removed]",
      "text/plain": [
       "<Figure size 432x288 with 1 Axes>"
      ]
     },
     "metadata": {
      "needs_background": "light"
     },
     "output_type": "display_data"
    }
   ],
   "source": [
    "\n",
    "plt.plot(range(rang), data[\"Voltage\"][:rang])\n",
    "plt.show()"
   ]
  },
  {
   "cell_type": "code",
   "execution_count": 28,
   "metadata": {},
   "outputs": [
    {
     "data": {
      "image/png": "[encoded data removed]",
      "text/plain": [
       "<Figure size 432x288 with 1 Axes>"
      ]
     },
     "metadata": {
      "needs_background": "light"
     },
     "output_type": "display_data"
    }
   ],
   "source": [
    "\n",
    "plt.plot(range(rang), data[\"Global_intensity\"][:rang])\n",
    "plt.show()"
   ]
  },
  {
   "cell_type": "code",
   "execution_count": 29,
   "metadata": {
    "scrolled": false
   },
   "outputs": [
    {
     "data": {
      "image/png": "[encoded data removed]",
      "text/plain": [
       "<Figure size 432x288 with 1 Axes>"
      ]
     },
     "metadata": {
      "needs_background": "light"
     },
     "output_type": "display_data"
    },
    {
     "data": {
      "image/png": "[encoded data removed]",
      "text/plain": [
       "<Figure size 432x288 with 1 Axes>"
      ]
     },
     "metadata": {
      "needs_background": "light"
     },
     "output_type": "display_data"
    },
    {
     "data": {
      "image/png": "[encoded data removed]",
      "text/plain": [
       "<Figure size 432x288 with 1 Axes>"
      ]
     },
     "metadata": {
      "needs_background": "light"
     },
     "output_type": "display_data"
    },
    {
     "data": {
      "image/png": "[encoded data removed]",
      "text/plain": [
       "<Figure size 432x288 with 1 Axes>"
      ]
     },
     "metadata": {
      "needs_background": "light"
     },
     "output_type": "display_data"
    },
    {
     "data": {
      "image/png": "[encoded data removed]",
      "text/plain": [
       "<Figure size 432x288 with 1 Axes>"
      ]
     },
     "metadata": {
      "needs_background": "light"
     },
     "output_type": "display_data"
    },
    {
     "data": {
      "image/png": "[encoded data removed]",
      "text/plain": [
       "<Figure size 432x288 with 1 Axes>"
      ]
     },
     "metadata": {
      "needs_background": "light"
     },
     "output_type": "display_data"
    },
    {
     "data": {
      "image/png": "[encoded data removed]",
      "text/plain": [
       "<Figure size 432x288 with 1 Axes>"
      ]
     },
     "metadata": {
      "needs_background": "light"
     },
     "output_type": "display_data"
    },
    {
     "data": {
      "image/png": "[encoded data removed]",
      "text/plain": [
       "<Figure size 432x288 with 1 Axes>"
      ]
     },
     "metadata": {
      "needs_background": "light"
     },
     "output_type": "display_data"
    },
    {
     "data": {
      "image/png": "[encoded data removed]",
      "text/plain": [
       "<Figure size 432x288 with 1 Axes>"
      ]
     },
     "metadata": {
      "needs_background": "light"
     },
     "output_type": "display_data"
    },
    {
     "data": {
      "image/png": "[encoded data removed]",
      "text/plain": [
       "<Figure size 432x288 with 1 Axes>"
      ]
     },
     "metadata": {
      "needs_background": "light"
     },
     "output_type": "display_data"
    }
   ],
   "source": [
    "\n",
    "# Obviously date and time are useless\n",
    "# Voltage wonderful gaussian\n",
    "# Global variable really concentrated on low value\n",
    "# Seems bimodal \n",
    "for sub, ind in enumerate(data.columns):\n",
    "\n",
    "    plt.subplot(data.shape[1], 1, sub + 1)\n",
    "#    plt.hist(data[ind], label = ind, bins = 100)\n",
    "    data[ind].hist(bins = 50)\n",
    "    plt.title(ind)\n",
    "    plt.show()"
   ]
  },
  {
   "cell_type": "markdown",
   "metadata": {},
   "source": [
    "### Observe data per year, to see if its interesting to investigate "
   ]
  },
  {
   "cell_type": "code",
   "execution_count": 30,
   "metadata": {},
   "outputs": [
    {
     "data": {
      "text/plain": [
       "(Timestamp('2007-01-01 00:00:00'), Timestamp('2008-01-01 00:00:00'))"
      ]
     },
     "execution_count": 30,
     "metadata": {},
     "output_type": "execute_result"
    }
   ],
   "source": [
    "begin_year = 2007\n",
    "start_date = pandas.to_datetime(\"1-1-\" + str(begin_year))\n",
    "end_date = pandas.to_datetime(\"1-1-\" + str(begin_year + 1))\n",
    "\n",
    "start_date, end_date"
   ]
  },
  {
   "cell_type": "code",
   "execution_count": 31,
   "metadata": {
    "scrolled": true
   },
   "outputs": [
    {
     "data": {
      "image/png": "[encoded data removed]",
      "text/plain": [
       "<Figure size 432x288 with 1 Axes>"
      ]
     },
     "metadata": {
      "needs_background": "light"
     },
     "output_type": "display_data"
    },
    {
     "data": {
      "image/png": "[encoded data removed]",
      "text/plain": [
       "<Figure size 432x288 with 1 Axes>"
      ]
     },
     "metadata": {
      "needs_background": "light"
     },
     "output_type": "display_data"
    },
    {
     "data": {
      "image/png": "[encoded data removed]",
      "text/plain": [
       "<Figure size 432x288 with 1 Axes>"
      ]
     },
     "metadata": {
      "needs_background": "light"
     },
     "output_type": "display_data"
    },
    {
     "data": {
      "image/png": "[encoded data removed]",
      "text/plain": [
       "<Figure size 432x288 with 1 Axes>"
      ]
     },
     "metadata": {
      "needs_background": "light"
     },
     "output_type": "display_data"
    }
   ],
   "source": [
    "for year in range(2007, 2011):\n",
    "    start_date = pandas.to_datetime(\"1-1-\" + str(year))\n",
    "    end_date = pandas.to_datetime(\"1-1-\" + str(year + 1))\n",
    "    plt.hist(data[(data[\"Date\"] < end_date) & (data[\"Date\"] > start_date)][\"Global_reactive_power\"],  bins = 100, label = str(year))\n",
    "    plt.legend()\n",
    "    plt.show()"
   ]
  },
  {
   "cell_type": "code",
   "execution_count": 32,
   "metadata": {},
   "outputs": [
    {
     "data": {
      "image/png": "[encoded data removed]",
      "text/plain": [
       "<Figure size 432x288 with 1 Axes>"
      ]
     },
     "metadata": {
      "needs_background": "light"
     },
     "output_type": "display_data"
    },
    {
     "data": {
      "image/png": "[encoded data removed]",
      "text/plain": [
       "<Figure size 432x288 with 1 Axes>"
      ]
     },
     "metadata": {
      "needs_background": "light"
     },
     "output_type": "display_data"
    },
    {
     "data": {
      "image/png": "[encoded data removed]",
      "text/plain": [
       "<Figure size 432x288 with 1 Axes>"
      ]
     },
     "metadata": {
      "needs_background": "light"
     },
     "output_type": "display_data"
    },
    {
     "data": {
      "image/png": "[encoded data removed]",
      "text/plain": [
       "<Figure size 432x288 with 1 Axes>"
      ]
     },
     "metadata": {
      "needs_background": "light"
     },
     "output_type": "display_data"
    }
   ],
   "source": [
    "for year in range(2007, 2011):\n",
    "    start_date = pandas.to_datetime(\"1-1-\" + str(year))\n",
    "    end_date = pandas.to_datetime(\"1-1-\" + str(year + 1))\n",
    "    plt.hist(data[(data[\"Date\"] < end_date) & (data[\"Date\"] > start_date)][\"Global_active_power\"], label = str(year), bins = 100)\n",
    "    plt.legend()\n",
    "    plt.show()"
   ]
  },
  {
   "cell_type": "markdown",
   "metadata": {},
   "source": [
    "# Per month ? "
   ]
  },
  {
   "cell_type": "code",
   "execution_count": 33,
   "metadata": {},
   "outputs": [
    {
     "name": "stdout",
     "output_type": "stream",
     "text": [
      "Month :  1\n",
      "Start and end  2008-01-01 00:00:00 2008-01-28 00:00:00\n"
     ]
    },
    {
     "data": {
      "image/png": "[encoded data removed]",
      "text/plain": [
       "<Figure size 432x288 with 1 Axes>"
      ]
     },
     "metadata": {
      "needs_background": "light"
     },
     "output_type": "display_data"
    },
    {
     "name": "stdout",
     "output_type": "stream",
     "text": [
      "Month :  2\n",
      "Start and end  2008-02-01 00:00:00 2008-02-28 00:00:00\n"
     ]
    },
    {
     "data": {
      "image/png": "[encoded data removed]",
      "text/plain": [
       "<Figure size 432x288 with 1 Axes>"
      ]
     },
     "metadata": {
      "needs_background": "light"
     },
     "output_type": "display_data"
    },
    {
     "name": "stdout",
     "output_type": "stream",
     "text": [
      "Month :  3\n",
      "Start and end  2008-03-01 00:00:00 2008-03-28 00:00:00\n"
     ]
    },
    {
     "data": {
      "image/png": "[encoded data removed]",
      "text/plain": [
       "<Figure size 432x288 with 1 Axes>"
      ]
     },
     "metadata": {
      "needs_background": "light"
     },
     "output_type": "display_data"
    },
    {
     "name": "stdout",
     "output_type": "stream",
     "text": [
      "Month :  4\n",
      "Start and end  2008-04-01 00:00:00 2008-04-28 00:00:00\n"
     ]
    },
    {
     "data": {
      "image/png": "[encoded data removed]",
      "text/plain": [
       "<Figure size 432x288 with 1 Axes>"
      ]
     },
     "metadata": {
      "needs_background": "light"
     },
     "output_type": "display_data"
    },
    {
     "name": "stdout",
     "output_type": "stream",
     "text": [
      "Month :  5\n",
      "Start and end  2008-05-01 00:00:00 2008-05-28 00:00:00\n"
     ]
    },
    {
     "data": {
      "image/png": "[encoded data removed]",
      "text/plain": [
       "<Figure size 432x288 with 1 Axes>"
      ]
     },
     "metadata": {
      "needs_background": "light"
     },
     "output_type": "display_data"
    },
    {
     "name": "stdout",
     "output_type": "stream",
     "text": [
      "Month :  6\n",
      "Start and end  2008-06-01 00:00:00 2008-06-28 00:00:00\n"
     ]
    },
    {
     "data": {
      "image/png": "[encoded data removed]",
      "text/plain": [
       "<Figure size 432x288 with 1 Axes>"
      ]
     },
     "metadata": {
      "needs_background": "light"
     },
     "output_type": "display_data"
    },
    {
     "name": "stdout",
     "output_type": "stream",
     "text": [
      "Month :  7\n",
      "Start and end  2008-07-01 00:00:00 2008-07-28 00:00:00\n"
     ]
    },
    {
     "data": {
      "image/png": "[encoded data removed]",
      "text/plain": [
       "<Figure size 432x288 with 1 Axes>"
      ]
     },
     "metadata": {
      "needs_background": "light"
     },
     "output_type": "display_data"
    },
    {
     "name": "stdout",
     "output_type": "stream",
     "text": [
      "Month :  8\n",
      "Start and end  2008-08-01 00:00:00 2008-08-28 00:00:00\n"
     ]
    },
    {
     "data": {
      "image/png": "[encoded data removed]",
      "text/plain": [
       "<Figure size 432x288 with 1 Axes>"
      ]
     },
     "metadata": {
      "needs_background": "light"
     },
     "output_type": "display_data"
    },
    {
     "name": "stdout",
     "output_type": "stream",
     "text": [
      "Month :  9\n",
      "Start and end  2008-09-01 00:00:00 2008-09-28 00:00:00\n"
     ]
    },
    {
     "data": {
      "image/png": "[encoded data removed]",
      "text/plain": [
       "<Figure size 432x288 with 1 Axes>"
      ]
     },
     "metadata": {
      "needs_background": "light"
     },
     "output_type": "display_data"
    },
    {
     "name": "stdout",
     "output_type": "stream",
     "text": [
      "Month :  10\n",
      "Start and end  2008-10-01 00:00:00 2008-10-28 00:00:00\n"
     ]
    },
    {
     "data": {
      "image/png": "[encoded data removed]",
      "text/plain": [
       "<Figure size 432x288 with 1 Axes>"
      ]
     },
     "metadata": {
      "needs_background": "light"
     },
     "output_type": "display_data"
    },
    {
     "name": "stdout",
     "output_type": "stream",
     "text": [
      "Month :  11\n",
      "Start and end  2008-11-01 00:00:00 2008-11-28 00:00:00\n"
     ]
    },
    {
     "data": {
      "image/png": "[encoded data removed]",
      "text/plain": [
       "<Figure size 432x288 with 1 Axes>"
      ]
     },
     "metadata": {
      "needs_background": "light"
     },
     "output_type": "display_data"
    },
    {
     "name": "stdout",
     "output_type": "stream",
     "text": [
      "Month :  12\n",
      "Start and end  2008-12-01 00:00:00 2008-12-28 00:00:00\n"
     ]
    },
    {
     "data": {
      "image/png": "[encoded data removed]",
      "text/plain": [
       "<Figure size 432x288 with 1 Axes>"
      ]
     },
     "metadata": {
      "needs_background": "light"
     },
     "output_type": "display_data"
    }
   ],
   "source": [
    "for month in range(1, 13):\n",
    "    print(\"Month : \",month)\n",
    "    start_date = pandas.to_datetime(str(month) + \"-1\" + \"-2008\")\n",
    "    end_date = pandas.to_datetime(str(month) + \"-28\" + \"-2008\")\n",
    "    print(\"Start and end \", start_date, end_date)\n",
    "    plt.hist(data[(data[\"Date\"] < end_date) & (data[\"Date\"] > start_date)][\"Global_active_power\"], label = str(month), bins = 100)\n",
    "    plt.legend()\n",
    "    plt.show()"
   ]
  },
  {
   "cell_type": "code",
   "execution_count": 34,
   "metadata": {},
   "outputs": [
    {
     "name": "stdout",
     "output_type": "stream",
     "text": [
      "Month :  1\n",
      "Start and end  2008-01-01 00:00:00 2008-01-28 00:00:00\n"
     ]
    },
    {
     "data": {
      "image/png": "[encoded data removed]",
      "text/plain": [
       "<Figure size 432x288 with 1 Axes>"
      ]
     },
     "metadata": {
      "needs_background": "light"
     },
     "output_type": "display_data"
    },
    {
     "name": "stdout",
     "output_type": "stream",
     "text": [
      "Month :  2\n",
      "Start and end  2008-02-01 00:00:00 2008-02-28 00:00:00\n"
     ]
    },
    {
     "data": {
      "image/png": "[encoded data removed]",
      "text/plain": [
       "<Figure size 432x288 with 1 Axes>"
      ]
     },
     "metadata": {
      "needs_background": "light"
     },
     "output_type": "display_data"
    },
    {
     "name": "stdout",
     "output_type": "stream",
     "text": [
      "Month :  3\n",
      "Start and end  2008-03-01 00:00:00 2008-03-28 00:00:00\n"
     ]
    },
    {
     "data": {
      "image/png": "[encoded data removed]",
      "text/plain": [
       "<Figure size 432x288 with 1 Axes>"
      ]
     },
     "metadata": {
      "needs_background": "light"
     },
     "output_type": "display_data"
    },
    {
     "name": "stdout",
     "output_type": "stream",
     "text": [
      "Month :  4\n",
      "Start and end  2008-04-01 00:00:00 2008-04-28 00:00:00\n"
     ]
    },
    {
     "data": {
      "image/png": "[encoded data removed]",
      "text/plain": [
       "<Figure size 432x288 with 1 Axes>"
      ]
     },
     "metadata": {
      "needs_background": "light"
     },
     "output_type": "display_data"
    },
    {
     "name": "stdout",
     "output_type": "stream",
     "text": [
      "Month :  5\n",
      "Start and end  2008-05-01 00:00:00 2008-05-28 00:00:00\n"
     ]
    },
    {
     "data": {
      "image/png": "[encoded data removed]",
      "text/plain": [
       "<Figure size 432x288 with 1 Axes>"
      ]
     },
     "metadata": {
      "needs_background": "light"
     },
     "output_type": "display_data"
    },
    {
     "name": "stdout",
     "output_type": "stream",
     "text": [
      "Month :  6\n",
      "Start and end  2008-06-01 00:00:00 2008-06-28 00:00:00\n"
     ]
    },
    {
     "data": {
      "image/png": "[encoded data removed]",
      "text/plain": [
       "<Figure size 432x288 with 1 Axes>"
      ]
     },
     "metadata": {
      "needs_background": "light"
     },
     "output_type": "display_data"
    },
    {
     "name": "stdout",
     "output_type": "stream",
     "text": [
      "Month :  7\n",
      "Start and end  2008-07-01 00:00:00 2008-07-28 00:00:00\n"
     ]
    },
    {
     "data": {
      "image/png": "[encoded data removed]",
      "text/plain": [
       "<Figure size 432x288 with 1 Axes>"
      ]
     },
     "metadata": {
      "needs_background": "light"
     },
     "output_type": "display_data"
    },
    {
     "name": "stdout",
     "output_type": "stream",
     "text": [
      "Month :  8\n",
      "Start and end  2008-08-01 00:00:00 2008-08-28 00:00:00\n"
     ]
    },
    {
     "data": {
      "image/png": "[encoded data removed]",
      "text/plain": [
       "<Figure size 432x288 with 1 Axes>"
      ]
     },
     "metadata": {
      "needs_background": "light"
     },
     "output_type": "display_data"
    },
    {
     "name": "stdout",
     "output_type": "stream",
     "text": [
      "Month :  9\n",
      "Start and end  2008-09-01 00:00:00 2008-09-28 00:00:00\n"
     ]
    },
    {
     "data": {
      "image/png": "[encoded data removed]",
      "text/plain": [
       "<Figure size 432x288 with 1 Axes>"
      ]
     },
     "metadata": {
      "needs_background": "light"
     },
     "output_type": "display_data"
    },
    {
     "name": "stdout",
     "output_type": "stream",
     "text": [
      "Month :  10\n",
      "Start and end  2008-10-01 00:00:00 2008-10-28 00:00:00\n"
     ]
    },
    {
     "data": {
      "image/png": "[encoded data removed]",
      "text/plain": [
       "<Figure size 432x288 with 1 Axes>"
      ]
     },
     "metadata": {
      "needs_background": "light"
     },
     "output_type": "display_data"
    },
    {
     "name": "stdout",
     "output_type": "stream",
     "text": [
      "Month :  11\n",
      "Start and end  2008-11-01 00:00:00 2008-11-28 00:00:00\n"
     ]
    },
    {
     "data": {
      "image/png": "[encoded data removed]",
      "text/plain": [
       "<Figure size 432x288 with 1 Axes>"
      ]
     },
     "metadata": {
      "needs_background": "light"
     },
     "output_type": "display_data"
    },
    {
     "name": "stdout",
     "output_type": "stream",
     "text": [
      "Month :  12\n",
      "Start and end  2008-12-01 00:00:00 2008-12-28 00:00:00\n"
     ]
    },
    {
     "data": {
      "image/png": "[encoded data removed]",
      "text/plain": [
       "<Figure size 432x288 with 1 Axes>"
      ]
     },
     "metadata": {
      "needs_background": "light"
     },
     "output_type": "display_data"
    }
   ],
   "source": [
    "for month in range(1, 13):\n",
    "    print(\"Month : \",month)\n",
    "    start_date = pandas.to_datetime(str(month) + \"-1\" + \"-2008\")\n",
    "    end_date = pandas.to_datetime(str(month) + \"-28\" + \"-2008\")\n",
    "    print(\"Start and end \", start_date, end_date)\n",
    "    plt.hist(data[(data[\"Date\"] < end_date) & (data[\"Date\"] > start_date)][\"Global_reactive_power\"], label = str(month), bins = 100)\n",
    "    plt.legend()\n",
    "    plt.show()"
   ]
  },
  {
   "cell_type": "code",
   "execution_count": 35,
   "metadata": {},
   "outputs": [
    {
     "name": "stdout",
     "output_type": "stream",
     "text": [
      "Month :  1\n",
      "Start and end  2008-01-01 00:00:00 2008-01-28 00:00:00\n"
     ]
    },
    {
     "data": {
      "image/png": "[encoded data removed]",
      "text/plain": [
       "<Figure size 432x288 with 1 Axes>"
      ]
     },
     "metadata": {
      "needs_background": "light"
     },
     "output_type": "display_data"
    },
    {
     "name": "stdout",
     "output_type": "stream",
     "text": [
      "Month :  2\n",
      "Start and end  2008-02-01 00:00:00 2008-02-28 00:00:00\n"
     ]
    },
    {
     "data": {
      "image/png": "[encoded data removed]",
      "text/plain": [
       "<Figure size 432x288 with 1 Axes>"
      ]
     },
     "metadata": {
      "needs_background": "light"
     },
     "output_type": "display_data"
    },
    {
     "name": "stdout",
     "output_type": "stream",
     "text": [
      "Month :  3\n",
      "Start and end  2008-03-01 00:00:00 2008-03-28 00:00:00\n"
     ]
    },
    {
     "data": {
      "image/png": "[encoded data removed]",
      "text/plain": [
       "<Figure size 432x288 with 1 Axes>"
      ]
     },
     "metadata": {
      "needs_background": "light"
     },
     "output_type": "display_data"
    },
    {
     "name": "stdout",
     "output_type": "stream",
     "text": [
      "Month :  4\n",
      "Start and end  2008-04-01 00:00:00 2008-04-28 00:00:00\n"
     ]
    },
    {
     "data": {
      "image/png": "[encoded data removed]",
      "text/plain": [
       "<Figure size 432x288 with 1 Axes>"
      ]
     },
     "metadata": {
      "needs_background": "light"
     },
     "output_type": "display_data"
    },
    {
     "name": "stdout",
     "output_type": "stream",
     "text": [
      "Month :  5\n",
      "Start and end  2008-05-01 00:00:00 2008-05-28 00:00:00\n"
     ]
    },
    {
     "data": {
      "image/png": "[encoded data removed]",
      "text/plain": [
       "<Figure size 432x288 with 1 Axes>"
      ]
     },
     "metadata": {
      "needs_background": "light"
     },
     "output_type": "display_data"
    },
    {
     "name": "stdout",
     "output_type": "stream",
     "text": [
      "Month :  6\n",
      "Start and end  2008-06-01 00:00:00 2008-06-28 00:00:00\n"
     ]
    },
    {
     "data": {
      "image/png": "[encoded data removed]",
      "text/plain": [
       "<Figure size 432x288 with 1 Axes>"
      ]
     },
     "metadata": {
      "needs_background": "light"
     },
     "output_type": "display_data"
    },
    {
     "name": "stdout",
     "output_type": "stream",
     "text": [
      "Month :  7\n",
      "Start and end  2008-07-01 00:00:00 2008-07-28 00:00:00\n"
     ]
    },
    {
     "data": {
      "image/png": "[encoded data removed]",
      "text/plain": [
       "<Figure size 432x288 with 1 Axes>"
      ]
     },
     "metadata": {
      "needs_background": "light"
     },
     "output_type": "display_data"
    },
    {
     "name": "stdout",
     "output_type": "stream",
     "text": [
      "Month :  8\n",
      "Start and end  2008-08-01 00:00:00 2008-08-28 00:00:00\n"
     ]
    },
    {
     "data": {
      "image/png": "[encoded data removed]",
      "text/plain": [
       "<Figure size 432x288 with 1 Axes>"
      ]
     },
     "metadata": {
      "needs_background": "light"
     },
     "output_type": "display_data"
    },
    {
     "name": "stdout",
     "output_type": "stream",
     "text": [
      "Month :  9\n",
      "Start and end  2008-09-01 00:00:00 2008-09-28 00:00:00\n"
     ]
    },
    {
     "data": {
      "image/png": "[encoded data removed]",
      "text/plain": [
       "<Figure size 432x288 with 1 Axes>"
      ]
     },
     "metadata": {
      "needs_background": "light"
     },
     "output_type": "display_data"
    },
    {
     "name": "stdout",
     "output_type": "stream",
     "text": [
      "Month :  10\n",
      "Start and end  2008-10-01 00:00:00 2008-10-28 00:00:00\n"
     ]
    },
    {
     "data": {
      "image/png": "[encoded data removed]",
      "text/plain": [
       "<Figure size 432x288 with 1 Axes>"
      ]
     },
     "metadata": {
      "needs_background": "light"
     },
     "output_type": "display_data"
    },
    {
     "name": "stdout",
     "output_type": "stream",
     "text": [
      "Month :  11\n",
      "Start and end  2008-11-01 00:00:00 2008-11-28 00:00:00\n"
     ]
    },
    {
     "data": {
      "image/png": "[encoded data removed]",
      "text/plain": [
       "<Figure size 432x288 with 1 Axes>"
      ]
     },
     "metadata": {
      "needs_background": "light"
     },
     "output_type": "display_data"
    },
    {
     "name": "stdout",
     "output_type": "stream",
     "text": [
      "Month :  12\n",
      "Start and end  2008-12-01 00:00:00 2008-12-28 00:00:00\n"
     ]
    },
    {
     "data": {
      "image/png": "[encoded data removed]",
      "text/plain": [
       "<Figure size 432x288 with 1 Axes>"
      ]
     },
     "metadata": {
      "needs_background": "light"
     },
     "output_type": "display_data"
    }
   ],
   "source": [
    "for month in range(1, 13):\n",
    "    print(\"Month : \",month)\n",
    "    start_date = pandas.to_datetime(str(month) + \"-1\" + \"-2008\")\n",
    "    end_date = pandas.to_datetime(str(month) + \"-28\" + \"-2008\")\n",
    "    print(\"Start and end \", start_date, end_date)\n",
    "    plt.hist(data[(data[\"Date\"] < end_date) & (data[\"Date\"] > start_date)][\"Voltage\"], label = str(month), bins = 100)\n",
    "    plt.legend()\n",
    "    plt.show()"
   ]
  },
  {
   "cell_type": "code",
   "execution_count": 36,
   "metadata": {},
   "outputs": [
    {
     "name": "stdout",
     "output_type": "stream",
     "text": [
      "Month :  1\n",
      "Start and end  2008-01-01 00:00:00 2008-01-28 00:00:00\n"
     ]
    },
    {
     "data": {
      "image/png": "[encoded data removed]",
      "text/plain": [
       "<Figure size 432x288 with 1 Axes>"
      ]
     },
     "metadata": {
      "needs_background": "light"
     },
     "output_type": "display_data"
    },
    {
     "name": "stdout",
     "output_type": "stream",
     "text": [
      "Month :  2\n",
      "Start and end  2008-02-01 00:00:00 2008-02-28 00:00:00\n"
     ]
    },
    {
     "data": {
      "image/png": "[encoded data removed]",
      "text/plain": [
       "<Figure size 432x288 with 1 Axes>"
      ]
     },
     "metadata": {
      "needs_background": "light"
     },
     "output_type": "display_data"
    },
    {
     "name": "stdout",
     "output_type": "stream",
     "text": [
      "Month :  3\n",
      "Start and end  2008-03-01 00:00:00 2008-03-28 00:00:00\n"
     ]
    },
    {
     "data": {
      "image/png": "[encoded data removed]",
      "text/plain": [
       "<Figure size 432x288 with 1 Axes>"
      ]
     },
     "metadata": {
      "needs_background": "light"
     },
     "output_type": "display_data"
    },
    {
     "name": "stdout",
     "output_type": "stream",
     "text": [
      "Month :  4\n",
      "Start and end  2008-04-01 00:00:00 2008-04-28 00:00:00\n"
     ]
    },
    {
     "data": {
      "image/png": "[encoded data removed]",
      "text/plain": [
       "<Figure size 432x288 with 1 Axes>"
      ]
     },
     "metadata": {
      "needs_background": "light"
     },
     "output_type": "display_data"
    },
    {
     "name": "stdout",
     "output_type": "stream",
     "text": [
      "Month :  5\n",
      "Start and end  2008-05-01 00:00:00 2008-05-28 00:00:00\n"
     ]
    },
    {
     "data": {
      "image/png": "[encoded data removed]",
      "text/plain": [
       "<Figure size 432x288 with 1 Axes>"
      ]
     },
     "metadata": {
      "needs_background": "light"
     },
     "output_type": "display_data"
    },
    {
     "name": "stdout",
     "output_type": "stream",
     "text": [
      "Month :  6\n",
      "Start and end  2008-06-01 00:00:00 2008-06-28 00:00:00\n"
     ]
    },
    {
     "data": {
      "image/png": "[encoded data removed]",
      "text/plain": [
       "<Figure size 432x288 with 1 Axes>"
      ]
     },
     "metadata": {
      "needs_background": "light"
     },
     "output_type": "display_data"
    },
    {
     "name": "stdout",
     "output_type": "stream",
     "text": [
      "Month :  7\n",
      "Start and end  2008-07-01 00:00:00 2008-07-28 00:00:00\n"
     ]
    },
    {
     "data": {
      "image/png": "[encoded data removed]",
      "text/plain": [
       "<Figure size 432x288 with 1 Axes>"
      ]
     },
     "metadata": {
      "needs_background": "light"
     },
     "output_type": "display_data"
    },
    {
     "name": "stdout",
     "output_type": "stream",
     "text": [
      "Month :  8\n",
      "Start and end  2008-08-01 00:00:00 2008-08-28 00:00:00\n"
     ]
    },
    {
     "data": {
      "image/png": "[encoded data removed]",
      "text/plain": [
       "<Figure size 432x288 with 1 Axes>"
      ]
     },
     "metadata": {
      "needs_background": "light"
     },
     "output_type": "display_data"
    },
    {
     "name": "stdout",
     "output_type": "stream",
     "text": [
      "Month :  9\n",
      "Start and end  2008-09-01 00:00:00 2008-09-28 00:00:00\n"
     ]
    },
    {
     "data": {
      "image/png": "[encoded data removed]",
      "text/plain": [
       "<Figure size 432x288 with 1 Axes>"
      ]
     },
     "metadata": {
      "needs_background": "light"
     },
     "output_type": "display_data"
    },
    {
     "name": "stdout",
     "output_type": "stream",
     "text": [
      "Month :  10\n",
      "Start and end  2008-10-01 00:00:00 2008-10-28 00:00:00\n"
     ]
    },
    {
     "data": {
      "image/png": "[encoded data removed]",
      "text/plain": [
       "<Figure size 432x288 with 1 Axes>"
      ]
     },
     "metadata": {
      "needs_background": "light"
     },
     "output_type": "display_data"
    },
    {
     "name": "stdout",
     "output_type": "stream",
     "text": [
      "Month :  11\n",
      "Start and end  2008-11-01 00:00:00 2008-11-28 00:00:00\n"
     ]
    },
    {
     "data": {
      "image/png": "[encoded data removed]",
      "text/plain": [
       "<Figure size 432x288 with 1 Axes>"
      ]
     },
     "metadata": {
      "needs_background": "light"
     },
     "output_type": "display_data"
    },
    {
     "name": "stdout",
     "output_type": "stream",
     "text": [
      "Month :  12\n",
      "Start and end  2008-12-01 00:00:00 2008-12-28 00:00:00\n"
     ]
    },
    {
     "data": {
      "image/png": "[encoded data removed]",
      "text/plain": [
       "<Figure size 432x288 with 1 Axes>"
      ]
     },
     "metadata": {
      "needs_background": "light"
     },
     "output_type": "display_data"
    }
   ],
   "source": [
    "for month in range(1, 13):\n",
    "    print(\"Month : \",month)\n",
    "    start_date = pandas.to_datetime(str(month) + \"-1\" + \"-2008\")\n",
    "    end_date = pandas.to_datetime(str(month) + \"-28\" + \"-2008\")\n",
    "    print(\"Start and end \", start_date, end_date)\n",
    "    plt.hist(data[(data[\"Date\"] < end_date) & (data[\"Date\"] > start_date)][\"Global_intensity\"], label = str(month), bins = 100)\n",
    "    plt.legend()\n",
    "    plt.show()"
   ]
  },
  {
   "cell_type": "code",
   "execution_count": 37,
   "metadata": {},
   "outputs": [
    {
     "name": "stdout",
     "output_type": "stream",
     "text": [
      "Month :  1\n",
      "Start and end  2008-01-01 00:00:00 2008-01-28 00:00:00\n"
     ]
    },
    {
     "data": {
      "image/png": "[encoded data removed]",
      "text/plain": [
       "<Figure size 432x288 with 1 Axes>"
      ]
     },
     "metadata": {
      "needs_background": "light"
     },
     "output_type": "display_data"
    },
    {
     "name": "stdout",
     "output_type": "stream",
     "text": [
      "Month :  2\n",
      "Start and end  2008-02-01 00:00:00 2008-02-28 00:00:00\n"
     ]
    },
    {
     "data": {
      "image/png": "[encoded data removed]",
      "text/plain": [
       "<Figure size 432x288 with 1 Axes>"
      ]
     },
     "metadata": {
      "needs_background": "light"
     },
     "output_type": "display_data"
    },
    {
     "name": "stdout",
     "output_type": "stream",
     "text": [
      "Month :  3\n",
      "Start and end  2008-03-01 00:00:00 2008-03-28 00:00:00\n"
     ]
    },
    {
     "data": {
      "image/png": "[encoded data removed]",
      "text/plain": [
       "<Figure size 432x288 with 1 Axes>"
      ]
     },
     "metadata": {
      "needs_background": "light"
     },
     "output_type": "display_data"
    },
    {
     "name": "stdout",
     "output_type": "stream",
     "text": [
      "Month :  4\n",
      "Start and end  2008-04-01 00:00:00 2008-04-28 00:00:00\n"
     ]
    },
    {
     "data": {
      "image/png": "[encoded data removed]",
      "text/plain": [
       "<Figure size 432x288 with 1 Axes>"
      ]
     },
     "metadata": {
      "needs_background": "light"
     },
     "output_type": "display_data"
    },
    {
     "name": "stdout",
     "output_type": "stream",
     "text": [
      "Month :  5\n",
      "Start and end  2008-05-01 00:00:00 2008-05-28 00:00:00\n"
     ]
    },
    {
     "data": {
      "image/png": "[encoded data removed]",
      "text/plain": [
       "<Figure size 432x288 with 1 Axes>"
      ]
     },
     "metadata": {
      "needs_background": "light"
     },
     "output_type": "display_data"
    },
    {
     "name": "stdout",
     "output_type": "stream",
     "text": [
      "Month :  6\n",
      "Start and end  2008-06-01 00:00:00 2008-06-28 00:00:00\n"
     ]
    },
    {
     "data": {
      "image/png": "[encoded data removed]",
      "text/plain": [
       "<Figure size 432x288 with 1 Axes>"
      ]
     },
     "metadata": {
      "needs_background": "light"
     },
     "output_type": "display_data"
    },
    {
     "name": "stdout",
     "output_type": "stream",
     "text": [
      "Month :  7\n",
      "Start and end  2008-07-01 00:00:00 2008-07-28 00:00:00\n"
     ]
    },
    {
     "data": {
      "image/png": "[encoded data removed]",
      "text/plain": [
       "<Figure size 432x288 with 1 Axes>"
      ]
     },
     "metadata": {
      "needs_background": "light"
     },
     "output_type": "display_data"
    },
    {
     "name": "stdout",
     "output_type": "stream",
     "text": [
      "Month :  8\n",
      "Start and end  2008-08-01 00:00:00 2008-08-28 00:00:00\n"
     ]
    },
    {
     "data": {
      "image/png": "[encoded data removed]",
      "text/plain": [
       "<Figure size 432x288 with 1 Axes>"
      ]
     },
     "metadata": {
      "needs_background": "light"
     },
     "output_type": "display_data"
    },
    {
     "name": "stdout",
     "output_type": "stream",
     "text": [
      "Month :  9\n",
      "Start and end  2008-09-01 00:00:00 2008-09-28 00:00:00\n"
     ]
    },
    {
     "data": {
      "image/png": "[encoded data removed]",
      "text/plain": [
       "<Figure size 432x288 with 1 Axes>"
      ]
     },
     "metadata": {
      "needs_background": "light"
     },
     "output_type": "display_data"
    },
    {
     "name": "stdout",
     "output_type": "stream",
     "text": [
      "Month :  10\n",
      "Start and end  2008-10-01 00:00:00 2008-10-28 00:00:00\n"
     ]
    },
    {
     "data": {
      "image/png": "[encoded data removed]",
      "text/plain": [
       "<Figure size 432x288 with 1 Axes>"
      ]
     },
     "metadata": {
      "needs_background": "light"
     },
     "output_type": "display_data"
    },
    {
     "name": "stdout",
     "output_type": "stream",
     "text": [
      "Month :  11\n",
      "Start and end  2008-11-01 00:00:00 2008-11-28 00:00:00\n"
     ]
    },
    {
     "data": {
      "image/png": "[encoded data removed]",
      "text/plain": [
       "<Figure size 432x288 with 1 Axes>"
      ]
     },
     "metadata": {
      "needs_background": "light"
     },
     "output_type": "display_data"
    },
    {
     "name": "stdout",
     "output_type": "stream",
     "text": [
      "Month :  12\n",
      "Start and end  2008-12-01 00:00:00 2008-12-28 00:00:00\n"
     ]
    },
    {
     "data": {
      "image/png": "[encoded data removed]",
      "text/plain": [
       "<Figure size 432x288 with 1 Axes>"
      ]
     },
     "metadata": {
      "needs_background": "light"
     },
     "output_type": "display_data"
    }
   ],
   "source": [
    "for month in range(1, 13):\n",
    "    print(\"Month : \",month)\n",
    "    start_date = pandas.to_datetime(str(month) + \"-1\" + \"-2008\")\n",
    "    end_date = pandas.to_datetime(str(month) + \"-28\" + \"-2008\")\n",
    "    print(\"Start and end \", start_date, end_date)\n",
    "    plt.hist(data[(data[\"Date\"] < end_date) & (data[\"Date\"] > start_date)][\"active_consumption\"], label = str(month), bins = 100)\n",
    "    plt.legend()\n",
    "    plt.show()"
   ]
  },
  {
   "cell_type": "code",
   "execution_count": 38,
   "metadata": {},
   "outputs": [
    {
     "data": {
      "image/png": "[encoded data removed]",
      "text/plain": [
       "<Figure size 432x288 with 1 Axes>"
      ]
     },
     "metadata": {
      "needs_background": "light"
     },
     "output_type": "display_data"
    }
   ],
   "source": [
    "cumul = []\n",
    "for month in range(1, 13):\n",
    "    start_date = pandas.to_datetime(str(month) + \"-1\" + \"-2008\")\n",
    "    end_date = pandas.to_datetime(str(month) + \"-28\" + \"-2008\")\n",
    "    cumul.append(np.mean(data[(data[\"Date\"] < end_date) & (data[\"Date\"] > start_date)][\"Global_intensity\"]))\n",
    "\n",
    "plt.plot(cumul)\n",
    "plt.show()"
   ]
  },
  {
   "cell_type": "code",
   "execution_count": 39,
   "metadata": {},
   "outputs": [
    {
     "data": {
      "image/png": "[encoded data removed]",
      "text/plain": [
       "<Figure size 432x288 with 1 Axes>"
      ]
     },
     "metadata": {
      "needs_background": "light"
     },
     "output_type": "display_data"
    }
   ],
   "source": [
    "cumul_active = []\n",
    "for month in range(1, 13):\n",
    "    start_date = pandas.to_datetime(str(month) + \"-1\" + \"-2008\")\n",
    "    end_date = pandas.to_datetime(str(month) + \"-28\" + \"-2008\")\n",
    "    cumul_active.append(np.mean(data[(data[\"Date\"] < end_date) & (data[\"Date\"] > start_date)][\"Global_reactive_power\"]))\n",
    "\n",
    "plt.plot(cumul_active)\n",
    "plt.show()"
   ]
  },
  {
   "cell_type": "code",
   "execution_count": 40,
   "metadata": {},
   "outputs": [
    {
     "data": {
      "image/png": "[encoded data removed]",
      "text/plain": [
       "<Figure size 432x288 with 1 Axes>"
      ]
     },
     "metadata": {
      "needs_background": "light"
     },
     "output_type": "display_data"
    }
   ],
   "source": [
    "cumul_reactiv = []\n",
    "for month in range(1, 13):\n",
    "    start_date = pandas.to_datetime(str(month) + \"-1\" + \"-2008\")\n",
    "    end_date = pandas.to_datetime(str(month) + \"-28\" + \"-2008\")\n",
    "    cumul_reactiv.append(np.mean(data[(data[\"Date\"] < end_date) & (data[\"Date\"] > start_date)][\"Global_active_power\"]))\n",
    "\n",
    "plt.plot(cumul_reactiv)\n",
    "plt.show()"
   ]
  },
  {
   "cell_type": "code",
   "execution_count": 41,
   "metadata": {},
   "outputs": [
    {
     "data": {
      "image/png": "[encoded data removed]",
      "text/plain": [
       "<Figure size 432x288 with 1 Axes>"
      ]
     },
     "metadata": {
      "needs_background": "light"
     },
     "output_type": "display_data"
    }
   ],
   "source": [
    "cumul_active_consumption = []\n",
    "for month in range(1, 13):\n",
    "    start_date = pandas.to_datetime(str(month) + \"-1\" + \"-2008\")\n",
    "    end_date = pandas.to_datetime(str(month) + \"-28\" + \"-2008\")\n",
    "    cumul_active_consumption.append(np.mean(data[(data[\"Date\"] < end_date) & (data[\"Date\"] > start_date)][\"active_consumption\"]))\n",
    "\n",
    "plt.plot(cumul_active_consumption, label = \"Active consumption\")\n",
    "plt.plot(np.zeros(len(cumul_active_consumption)), label =\"Zero reference\")\n",
    "plt.legend()\n",
    "plt.show()"
   ]
  },
  {
   "cell_type": "code",
   "execution_count": 42,
   "metadata": {},
   "outputs": [
    {
     "data": {
      "image/png": "[encoded data removed]",
      "text/plain": [
       "<Figure size 432x288 with 1 Axes>"
      ]
     },
     "metadata": {
      "needs_background": "light"
     },
     "output_type": "display_data"
    }
   ],
   "source": [
    "plt.plot(np.array(cumul_active) - np.array(cumul_reactiv),  label = \"reactive - active power\")\n",
    "plt.plot(np.zeros(len(cumul_active)), label =\"Zero reference\")\n",
    "plt.legend()\n",
    "plt.axis([0, 10, -3, 1])\n",
    "plt.show()"
   ]
  },
  {
   "cell_type": "markdown",
   "metadata": {},
   "source": [
    "# What do we have now \n",
    "\n",
    "We still haven't made prediction about the data.\n",
    "\n",
    "Yet we can already observe some patterns such as relation between active and reactive power variation.\n",
    "\n",
    "* \"Drop\" period for both those variables\n",
    "* Bimodal repartition of the Global informations\n",
    "* Voltage is a gaussian\n",
    "* One house's information\n",
    "\n",
    "So ... the only thing we can analyze with only one house is ... predict its next consumption (hourly, daily...)\n",
    "\n",
    "What could be our approach\n",
    "* Normalize SOME data\n",
    "* Regression maybe?\n",
    "* LSTM, time series like dataset seems ok for an lstm approach, especially with that much data"
   ]
  },
  {
   "cell_type": "markdown",
   "metadata": {},
   "source": [
    "# First approach : \n",
    "Regression without work on data, to have a baseline\n",
    "# Problematic :\n",
    "Let's imagine this is an EDF's problem, EDF produces more electricity than required and want to optimizes its cost, let's predict the Global_X of this client thanks to prior informations"
   ]
  },
  {
   "cell_type": "code",
   "execution_count": 43,
   "metadata": {},
   "outputs": [],
   "source": [
    "from sklearn.model_selection import train_test_split\n",
    "train, test = train_test_split(data, test_size = 0.5)"
   ]
  },
  {
   "cell_type": "code",
   "execution_count": 44,
   "metadata": {},
   "outputs": [
    {
     "name": "stdout",
     "output_type": "stream",
     "text": [
      "(1024640, 7) (1024640, 7) (2049280, 10)\n"
     ]
    }
   ],
   "source": [
    "# Split Train / test / label\n",
    "train_data_X = train\n",
    "train_data_X = train_data_X.drop([\"Global_active_power\", \"Date\", \"Time\"], axis = 1) # Suppress label, ofc\n",
    "train_data_Y = train[\"Global_active_power\"] # Global_active_power seems the most important feature, if I understood clearly the definitions\n",
    "# Lets make it the label we want to predict\n",
    "\n",
    "test_data_X = test\n",
    "test_data_X = test_data_X.drop([\"Global_active_power\", \"Date\", \"Time\"], axis = 1) # Suppress label, ofc\n",
    "test_data_Y = test[\"Global_active_power\"] # Global_active_power seems the most important feature, if I understood clearly the definitions\n",
    "print(train_data_X.shape, test_data_X.shape, data.shape)"
   ]
  },
  {
   "cell_type": "code",
   "execution_count": 45,
   "metadata": {},
   "outputs": [],
   "source": [
    "train_data_X = np.array(train_data_X).reshape((train_data_X.shape[0], 1, train_data_X.shape[1])) # yes, there is a better way but I have a blackout atm\n",
    "test_data_X = np.array(test_data_X).reshape((test_data_X.shape[0], 1, test_data_X.shape[1])) # yes, there is a better way but I have a blackout atm"
   ]
  },
  {
   "cell_type": "code",
   "execution_count": 46,
   "metadata": {},
   "outputs": [
    {
     "data": {
      "text/plain": [
       "((1024640, 1, 7), (1024640, 1, 7))"
      ]
     },
     "execution_count": 46,
     "metadata": {},
     "output_type": "execute_result"
    }
   ],
   "source": [
    "train_data_X.shape, test_data_X.shape"
   ]
  },
  {
   "cell_type": "markdown",
   "metadata": {},
   "source": [
    "# Lets begin with an lstm"
   ]
  },
  {
   "cell_type": "code",
   "execution_count": 47,
   "metadata": {},
   "outputs": [],
   "source": [
    "import keras\n",
    "from keras.layers import LSTM, Dropout, Dense"
   ]
  },
  {
   "cell_type": "code",
   "execution_count": 48,
   "metadata": {},
   "outputs": [
    {
     "name": "stdout",
     "output_type": "stream",
     "text": [
      "Train on 1024640 samples, validate on 1024640 samples\n",
      "Epoch 1/3\n",
      "1024640/1024640 [==============================] - 7s 7us/step - loss: 0.0935 - val_loss: 0.0066\n",
      "Epoch 2/3\n",
      "1024640/1024640 [==============================] - 5s 4us/step - loss: 0.0046 - val_loss: 0.0035\n",
      "Epoch 3/3\n",
      "1024640/1024640 [==============================] - 4s 4us/step - loss: 0.0030 - val_loss: 0.0026\n"
     ]
    }
   ],
   "source": [
    "layer_1_size = 128\n",
    "epoch = 3 # Increase it for better result, but on my weak laptop ... \n",
    "# Well, tbh, I could modify the data from minutes/hours to hours or day mean \n",
    "# We would have significantly less data\n",
    "# But, there is tons of improvment possible with this subject and I wanted to show you a POC \n",
    "# and not a perfect and over optimized solutions, as it was not the purpose here.\n",
    "\n",
    "batch = 1024 \n",
    "\n",
    "model = keras.Sequential()\n",
    "model.add(LSTM(layer_1_size, input_shape = (train_data_X.shape[1], train_data_X.shape[2])))\n",
    "# Dropout problem on some python distribution, so for a \"all in one\" notebook I deleted it\n",
    "# but if you want to improve, a simple dropout of 0.2 or 0.3 should be fine \n",
    "# model.add(Dropout(0.2))\n",
    "model.add(Dense(1, activation = \"linear\"))\n",
    "model.compile(loss = \"mse\", optimizer = \"Adam\")\n",
    "\n",
    "history = model.fit(train_data_X, train_data_Y, epochs = epoch, batch_size = batch,\\\n",
    "        validation_data = (test_data_X, test_data_Y), verbose = 1)"
   ]
  },
  {
   "cell_type": "code",
   "execution_count": 49,
   "metadata": {},
   "outputs": [
    {
     "data": {
      "image/png": "[encoded data removed]",
      "text/plain": [
       "<Figure size 432x288 with 1 Axes>"
      ]
     },
     "metadata": {
      "needs_background": "light"
     },
     "output_type": "display_data"
    }
   ],
   "source": [
    "plt.plot(history.history['loss'], label = \"Loss\")\n",
    "plt.plot(history.history['val_loss'], label = \"Val loss\")\n",
    "plt.legend()\n",
    "plt.show()\n"
   ]
  },
  {
   "cell_type": "code",
   "execution_count": 50,
   "metadata": {},
   "outputs": [
    {
     "name": "stdout",
     "output_type": "stream",
     "text": [
      "rmse : 0.051\n"
     ]
    }
   ],
   "source": [
    "import sklearn\n",
    "pred = model.predict(test_data_X)\n",
    "test_data_Y = np.array(test_data_Y)\n",
    "\n",
    "rmse = np.sqrt(sklearn.metrics.mean_squared_error(test_data_Y, pred))\n",
    "print('rmse : %.3f' % rmse)"
   ]
  },
  {
   "cell_type": "markdown",
   "metadata": {},
   "source": [
    "# Quite a good result to begin with.\n",
    "Let's compare to a simple baseline, too good to be true"
   ]
  },
  {
   "cell_type": "markdown",
   "metadata": {},
   "source": [
    "# For baseline : Regression"
   ]
  },
  {
   "cell_type": "code",
   "execution_count": 102,
   "metadata": {},
   "outputs": [],
   "source": [
    "# Split Train / test / label\n",
    "train_data_X = train\n",
    "train_data_X = train_data_X.drop([\"Global_active_power\", \"Date\", \"Time\"], axis = 1) # Suppress label, ofc\n",
    "train_data_Y = train[\"Global_active_power\"] # Global_active_power seems the most important feature, if I understood clearly the definitions\n",
    "# Lets make it the label we want to predict\n",
    "\n",
    "test_data_X = test\n",
    "test_data_X = test_data_X.drop([\"Global_active_power\", \"Date\", \"Time\"], axis = 1) # Suppress label, ofc\n",
    "test_data_Y = test[\"Global_active_power\"] # Global_active_power seems the most important feature, if I understood clearly the definitions\n"
   ]
  },
  {
   "cell_type": "code",
   "execution_count": 52,
   "metadata": {},
   "outputs": [],
   "source": [
    "from sklearn.linear_model import LinearRegression\n",
    "clf = LinearRegression().fit(train_data_X, train_data_Y)"
   ]
  },
  {
   "cell_type": "code",
   "execution_count": 53,
   "metadata": {},
   "outputs": [
    {
     "data": {
      "text/plain": [
       "1.0"
      ]
     },
     "execution_count": 53,
     "metadata": {},
     "output_type": "execute_result"
    }
   ],
   "source": [
    "clf.score(test_data_X, test_data_Y) # Highly not unexpected tbh\n",
    "# It is actually extremely likely that some variable are correlated with those coeff"
   ]
  },
  {
   "cell_type": "code",
   "execution_count": 54,
   "metadata": {},
   "outputs": [
    {
     "data": {
      "text/plain": [
       "array([-2.26941117e-15,  8.74300632e-16,  5.68989300e-16,  6.00000000e-01,\n",
       "        6.00000000e-01,  6.00000000e-01,  6.00000000e-01])"
      ]
     },
     "execution_count": 54,
     "metadata": {},
     "output_type": "execute_result"
    }
   ],
   "source": [
    "clf.coef_"
   ]
  },
  {
   "cell_type": "markdown",
   "metadata": {},
   "source": [
    "# But wait, there is a problem ! \n",
    "Isn't it a cheat to use data the model doesn't know at time T, how can we use data at T+2 to predict a data at T\n",
    "Our prediction have to be time dependant.\n",
    "So, yes, probably we can 'reconstruct' data thanks to this strategy, but we don't answer the problematic\n",
    "\n",
    "And, well, we haven't normalized yet also"
   ]
  },
  {
   "cell_type": "code",
   "execution_count": 55,
   "metadata": {},
   "outputs": [],
   "source": [
    "start_date = pandas.to_datetime(str(month) + \"-1\" + \"-2008\")"
   ]
  },
  {
   "cell_type": "code",
   "execution_count": 56,
   "metadata": {},
   "outputs": [],
   "source": [
    "# Predict data 1 day later \n",
    "# can be modified for hour or year also\n",
    "def predict_at_t(dataset, last_timestamp):\n",
    "    timestamp = last_timestamp\n",
    "    # Extract all \"known\" data at last_timestamp\n",
    "    pre_timestamp_data = dataset[dataset[\"Date\"] <= last_timestamp]\n",
    "    train_data_Y = pre_timestamp_data[\"Global_active_power\"]\n",
    "    # Theoric label .... BUT if we want to predict with \"one day\" later, we have to shift those value by\n",
    "    # 60 * 24 (dataset in minutes)\n",
    "    nb_minutes_per_day = 60 * 24\n",
    "    # Those, for data_X[0] corresponds label[1440]\n",
    "    train_data_Y = train_data_Y[nb_minutes_per_day:]\n",
    "    train_data_X = pre_timestamp_data.drop([\"Global_active_power\", \"Date\", \"Time\"], axis = 1) \n",
    "    # BUUUUUT we also \"lose\" information about the last 1 day of our data, so we have to destroy the last day of informations \n",
    "    # as we don't have its future\n",
    "    train_data_X = train_data_X[:-nb_minutes_per_day]\n",
    "    assert train_data_X.shape[0] == train_data_Y.shape[0]\n",
    "\n",
    "    # now we can train\n",
    "    clf = LinearRegression().fit(train_data_X, train_data_Y)\n",
    "    # Now we can observe the prediction of our model\n",
    "    delta = datetime.timedelta(days=1)\n",
    "    timestamp += delta\n",
    "    informations = dataset[dataset[\"Date\"] == timestamp][:1]\n",
    "    ref_value = informations[\"Global_active_power\"].values[0]\n",
    "    # DIRTY, TODO : Merge Date and Time. Extract 24 hour later value\n",
    "    informations = informations.drop([\"Date\", \"Time\", \"Global_active_power\"], axis = 1)\n",
    "    prediction = clf.predict(informations)\n",
    "    print(\"Delta : \", abs(ref_value - prediction))\n",
    "\n",
    "    \n",
    "    \n",
    "        \n",
    "            "
   ]
  },
  {
   "cell_type": "code",
   "execution_count": 57,
   "metadata": {},
   "outputs": [
    {
     "name": "stdout",
     "output_type": "stream",
     "text": [
      "Delta :  [0.43504506]\n"
     ]
    }
   ],
   "source": [
    "predict_at_t(data, start_date) # With a mean at 1, not that good anymore"
   ]
  },
  {
   "cell_type": "code",
   "execution_count": 58,
   "metadata": {},
   "outputs": [
    {
     "data": {
      "text/html": [
       "<div>\n",
       "<style scoped>\n",
       "    .dataframe tbody tr th:only-of-type {\n",
       "        vertical-align: middle;\n",
       "    }\n",
       "\n",
       "    .dataframe tbody tr th {\n",
       "        vertical-align: top;\n",
       "    }\n",
       "\n",
       "    .dataframe thead th {\n",
       "        text-align: right;\n",
       "    }\n",
       "</style>\n",
       "<table border=\"1\" class=\"dataframe\">\n",
       "  <thead>\n",
       "    <tr style=\"text-align: right;\">\n",
       "      <th></th>\n",
       "      <th>Global_active_power</th>\n",
       "      <th>Global_reactive_power</th>\n",
       "      <th>Voltage</th>\n",
       "      <th>Global_intensity</th>\n",
       "      <th>Sub_metering_1</th>\n",
       "      <th>Sub_metering_2</th>\n",
       "      <th>Sub_metering_3</th>\n",
       "      <th>active_consumption</th>\n",
       "    </tr>\n",
       "  </thead>\n",
       "  <tbody>\n",
       "    <tr>\n",
       "      <th>count</th>\n",
       "      <td>2.049280e+06</td>\n",
       "      <td>2.049280e+06</td>\n",
       "      <td>2.049280e+06</td>\n",
       "      <td>2.049280e+06</td>\n",
       "      <td>2.049280e+06</td>\n",
       "      <td>2.049280e+06</td>\n",
       "      <td>2.049280e+06</td>\n",
       "      <td>2.049280e+06</td>\n",
       "    </tr>\n",
       "    <tr>\n",
       "      <th>mean</th>\n",
       "      <td>1.091615e+00</td>\n",
       "      <td>1.237145e-01</td>\n",
       "      <td>2.408399e+02</td>\n",
       "      <td>4.627759e+00</td>\n",
       "      <td>1.121923e+00</td>\n",
       "      <td>1.298520e+00</td>\n",
       "      <td>6.458447e+00</td>\n",
       "      <td>-7.059532e+00</td>\n",
       "    </tr>\n",
       "    <tr>\n",
       "      <th>std</th>\n",
       "      <td>1.057294e+00</td>\n",
       "      <td>1.127220e-01</td>\n",
       "      <td>3.239987e+00</td>\n",
       "      <td>4.444396e+00</td>\n",
       "      <td>6.153031e+00</td>\n",
       "      <td>5.822026e+00</td>\n",
       "      <td>8.437154e+00</td>\n",
       "      <td>1.140847e+01</td>\n",
       "    </tr>\n",
       "    <tr>\n",
       "      <th>min</th>\n",
       "      <td>7.600000e-02</td>\n",
       "      <td>0.000000e+00</td>\n",
       "      <td>2.232000e+02</td>\n",
       "      <td>2.000000e-01</td>\n",
       "      <td>0.000000e+00</td>\n",
       "      <td>0.000000e+00</td>\n",
       "      <td>0.000000e+00</td>\n",
       "      <td>-1.198200e+02</td>\n",
       "    </tr>\n",
       "    <tr>\n",
       "      <th>25%</th>\n",
       "      <td>3.080000e-01</td>\n",
       "      <td>4.800000e-02</td>\n",
       "      <td>2.389900e+02</td>\n",
       "      <td>1.400000e+00</td>\n",
       "      <td>0.000000e+00</td>\n",
       "      <td>0.000000e+00</td>\n",
       "      <td>0.000000e+00</td>\n",
       "      <td>-1.512000e+01</td>\n",
       "    </tr>\n",
       "    <tr>\n",
       "      <th>50%</th>\n",
       "      <td>6.020000e-01</td>\n",
       "      <td>1.000000e-01</td>\n",
       "      <td>2.410100e+02</td>\n",
       "      <td>2.600000e+00</td>\n",
       "      <td>0.000000e+00</td>\n",
       "      <td>0.000000e+00</td>\n",
       "      <td>1.000000e+00</td>\n",
       "      <td>-6.466667e-01</td>\n",
       "    </tr>\n",
       "    <tr>\n",
       "      <th>75%</th>\n",
       "      <td>1.528000e+00</td>\n",
       "      <td>1.940000e-01</td>\n",
       "      <td>2.428900e+02</td>\n",
       "      <td>6.400000e+00</td>\n",
       "      <td>0.000000e+00</td>\n",
       "      <td>1.000000e+00</td>\n",
       "      <td>1.700000e+01</td>\n",
       "      <td>3.866667e-01</td>\n",
       "    </tr>\n",
       "    <tr>\n",
       "      <th>max</th>\n",
       "      <td>1.112200e+01</td>\n",
       "      <td>1.390000e+00</td>\n",
       "      <td>2.541500e+02</td>\n",
       "      <td>4.840000e+01</td>\n",
       "      <td>8.800000e+01</td>\n",
       "      <td>8.000000e+01</td>\n",
       "      <td>3.100000e+01</td>\n",
       "      <td>1.221667e+01</td>\n",
       "    </tr>\n",
       "  </tbody>\n",
       "</table>\n",
       "</div>"
      ],
      "text/plain": [
       "       Global_active_power  Global_reactive_power       Voltage  \\\n",
       "count         2.049280e+06           2.049280e+06  2.049280e+06   \n",
       "mean          1.091615e+00           1.237145e-01  2.408399e+02   \n",
       "std           1.057294e+00           1.127220e-01  3.239987e+00   \n",
       "min           7.600000e-02           0.000000e+00  2.232000e+02   \n",
       "25%           3.080000e-01           4.800000e-02  2.389900e+02   \n",
       "50%           6.020000e-01           1.000000e-01  2.410100e+02   \n",
       "75%           1.528000e+00           1.940000e-01  2.428900e+02   \n",
       "max           1.112200e+01           1.390000e+00  2.541500e+02   \n",
       "\n",
       "       Global_intensity  Sub_metering_1  Sub_metering_2  Sub_metering_3  \\\n",
       "count      2.049280e+06    2.049280e+06    2.049280e+06    2.049280e+06   \n",
       "mean       4.627759e+00    1.121923e+00    1.298520e+00    6.458447e+00   \n",
       "std        4.444396e+00    6.153031e+00    5.822026e+00    8.437154e+00   \n",
       "min        2.000000e-01    0.000000e+00    0.000000e+00    0.000000e+00   \n",
       "25%        1.400000e+00    0.000000e+00    0.000000e+00    0.000000e+00   \n",
       "50%        2.600000e+00    0.000000e+00    0.000000e+00    1.000000e+00   \n",
       "75%        6.400000e+00    0.000000e+00    1.000000e+00    1.700000e+01   \n",
       "max        4.840000e+01    8.800000e+01    8.000000e+01    3.100000e+01   \n",
       "\n",
       "       active_consumption  \n",
       "count        2.049280e+06  \n",
       "mean        -7.059532e+00  \n",
       "std          1.140847e+01  \n",
       "min         -1.198200e+02  \n",
       "25%         -1.512000e+01  \n",
       "50%         -6.466667e-01  \n",
       "75%          3.866667e-01  \n",
       "max          1.221667e+01  "
      ]
     },
     "execution_count": 58,
     "metadata": {},
     "output_type": "execute_result"
    }
   ],
   "source": [
    "data.describe()"
   ]
  },
  {
   "cell_type": "code",
   "execution_count": 59,
   "metadata": {},
   "outputs": [
    {
     "name": "stdout",
     "output_type": "stream",
     "text": [
      "Delta :  [1.69274123]\n",
      "Delta :  [0.50874772]\n",
      "Delta :  [4.33850504]\n",
      "Delta :  [0.29861366]\n"
     ]
    }
   ],
   "source": [
    "# let's experiment for every year\n",
    "for year in range(2007, 2011):\n",
    "    start_date = pandas.to_datetime(\"1-1-\" + str(year))\n",
    "    predict_at_t(data, start_date) # With a mean at 1, not that good anymore"
   ]
  },
  {
   "cell_type": "code",
   "execution_count": 142,
   "metadata": {},
   "outputs": [],
   "source": [
    "\n",
    "def predict_at_t_lstm(dataset, last_timestamp, batch_s = 64, epoch_s = 20):\n",
    "    \n",
    "   \n",
    "    timestamp = last_timestamp\n",
    "    # Extract all \"known\" data at last_timestamp\n",
    "    pre_timestamp_data = dataset[dataset[\"Date\"] <= last_timestamp]\n",
    "    train_data_Y = pre_timestamp_data[\"Global_active_power\"]\n",
    "    # Theoric label .... BUT if we want to predict with \"one day\" later, we have to shift those value by\n",
    "    # 60 * 24 (dataset in minutes)\n",
    "    nb_minutes_per_day = 60 * 24\n",
    "    # Those, for data_X[0] corresponds label[1440]\n",
    "    train_data_Y = train_data_Y[nb_minutes_per_day:]\n",
    "    train_data_X = pre_timestamp_data.drop([\"Global_active_power\", \"Date\", \"Time\"], axis = 1) \n",
    "    # BUUUUUT we also \"lose\" information about the last 1 day of our data, so we have to destroy the last day of informations \n",
    "    # as we don't have its future\n",
    "    train_data_X = train_data_X[:-nb_minutes_per_day]\n",
    "    assert train_data_X.shape[0] == train_data_Y.shape[0]\n",
    "    train_data_X = np.array(train_data_X).reshape((train_data_X.shape[0], 1, train_data_X.shape[1]))\n",
    "    # now we can train\n",
    "    layer_1_size = 128\n",
    "    epoch = epoch_s\n",
    "    batch = batch_s\n",
    "    model = keras.Sequential()\n",
    "    model.add(LSTM(layer_1_size, input_shape = (train_data_X.shape[1], train_data_X.shape[2])))\n",
    "    model.add(Dropout(0.3))\n",
    "    model.add(Dense(1, activation = \"linear\"))\n",
    "    model.compile(loss = \"mse\", optimizer = \"Adam\")\n",
    "\n",
    "    history = model.fit(train_data_X, train_data_Y, epochs = epoch, batch_size = batch, shuffle = False, verbose = 2)\n",
    "\n",
    "    # Now we can observe the prediction of our model\n",
    "    delta = datetime.timedelta(days=1)\n",
    "    timestamp += delta\n",
    "    informations = dataset[dataset[\"Date\"] == timestamp][:1]\n",
    "    print(\"Ref value shape \", informations[\"Global_active_power\"])\n",
    "    ref_value = informations[\"Global_active_power\"].values[0]\n",
    "    # DIRTY, TODO : Merge Date and Time. Extract 24 hour later value\n",
    "    informations = informations.drop([\"Date\", \"Time\", \"Global_active_power\"], axis = 1)\n",
    "    informations = np.array(informations).reshape((informations.shape[0], 1, informations.shape[1]))\n",
    "    prediction = model.predict(informations)\n",
    "    print(\"Delta : \", abs(ref_value - prediction))\n",
    "    return history, model\n",
    "    \n",
    "    \n",
    "        \n"
   ]
  },
  {
   "cell_type": "code",
   "execution_count": 83,
   "metadata": {},
   "outputs": [
    {
     "name": "stdout",
     "output_type": "stream",
     "text": [
      "Epoch 1/20\n",
      "21992/21992 [==============================] - 3s 125us/step - loss: 2.2964\n",
      "Epoch 2/20\n",
      "21992/21992 [==============================] - 1s 51us/step - loss: 2.1794\n",
      "Epoch 3/20\n",
      "21992/21992 [==============================] - 1s 50us/step - loss: 2.1595\n",
      "Epoch 4/20\n",
      "21992/21992 [==============================] - 1s 51us/step - loss: 2.1450\n",
      "Epoch 5/20\n",
      "21992/21992 [==============================] - 1s 51us/step - loss: 2.1090\n",
      "Epoch 6/20\n",
      "21992/21992 [==============================] - 1s 51us/step - loss: 2.1147\n",
      "Epoch 7/20\n",
      "21992/21992 [==============================] - 1s 52us/step - loss: 2.1205\n",
      "Epoch 8/20\n",
      "21992/21992 [==============================] - 1s 52us/step - loss: 2.1067\n",
      "Epoch 9/20\n",
      "21992/21992 [==============================] - 1s 51us/step - loss: 2.0979\n",
      "Epoch 10/20\n",
      "21992/21992 [==============================] - 1s 51us/step - loss: 2.1069\n",
      "Epoch 11/20\n",
      "21992/21992 [==============================] - 1s 50us/step - loss: 2.1005\n",
      "Epoch 12/20\n",
      "21992/21992 [==============================] - 1s 50us/step - loss: 2.0933\n",
      "Epoch 13/20\n",
      "21992/21992 [==============================] - 1s 51us/step - loss: 2.0909\n",
      "Epoch 14/20\n",
      "21992/21992 [==============================] - 1s 51us/step - loss: 2.0873\n",
      "Epoch 15/20\n",
      "21992/21992 [==============================] - 1s 52us/step - loss: 2.0918\n",
      "Epoch 16/20\n",
      "21992/21992 [==============================] - 1s 52us/step - loss: 2.0827\n",
      "Epoch 17/20\n",
      "21992/21992 [==============================] - 1s 52us/step - loss: 2.0860\n",
      "Epoch 18/20\n",
      "21992/21992 [==============================] - 1s 52us/step - loss: 2.0920\n",
      "Epoch 19/20\n",
      "21992/21992 [==============================] - 1s 52us/step - loss: 2.0883\n",
      "Epoch 20/20\n",
      "21992/21992 [==============================] - 1s 51us/step - loss: 2.0902\n",
      "Ref value shape  23436    0.442\n",
      "Name: Global_active_power, dtype: float64\n",
      "Delta :  [[1.693354]]\n"
     ]
    },
    {
     "data": {
      "image/png": "[encoded data removed]",
      "text/plain": [
       "<Figure size 432x288 with 1 Axes>"
      ]
     },
     "metadata": {
      "needs_background": "light"
     },
     "output_type": "display_data"
    }
   ],
   "source": [
    "# let's experiment for every year\n",
    "for year in range(2007, 2008):\n",
    "    start_date = pandas.to_datetime(\"1-1-\" + str(year))\n",
    "    history, model = predict_at_t_lstm(data, start_date)\n",
    "    plt.plot(history.history['loss'], label = \"Loss year \" + str(year))\n",
    "    plt.legend()\n",
    "    plt.show()\n"
   ]
  },
  {
   "cell_type": "code",
   "execution_count": null,
   "metadata": {},
   "outputs": [],
   "source": [
    "data.columns"
   ]
  },
  {
   "cell_type": "markdown",
   "metadata": {},
   "source": [
    "# Are my columns correlated ? "
   ]
  },
  {
   "cell_type": "code",
   "execution_count": 62,
   "metadata": {},
   "outputs": [
    {
     "data": {
      "image/png": "[encoded data removed]",
      "text/plain": [
       "<Figure size 288x288 with 2 Axes>"
      ]
     },
     "metadata": {
      "needs_background": "light"
     },
     "output_type": "display_data"
    }
   ],
   "source": [
    "plt.matshow(data.corr()) # Obviously yes\n",
    "plt.colorbar()\n",
    "plt.show()\n",
    "# Global active and intensity are correlated \n",
    "# Voltage seems ok\n",
    "# Active consumption is obviously correlated to the others as it is defined by most of them\n",
    "# A lot of correlation in this dataset"
   ]
  },
  {
   "cell_type": "markdown",
   "metadata": {},
   "source": [
    "\n",
    "# After Normalization"
   ]
  },
  {
   "cell_type": "code",
   "execution_count": 114,
   "metadata": {},
   "outputs": [
    {
     "data": {
      "text/html": [
       "<div>\n",
       "<style scoped>\n",
       "    .dataframe tbody tr th:only-of-type {\n",
       "        vertical-align: middle;\n",
       "    }\n",
       "\n",
       "    .dataframe tbody tr th {\n",
       "        vertical-align: top;\n",
       "    }\n",
       "\n",
       "    .dataframe thead th {\n",
       "        text-align: right;\n",
       "    }\n",
       "</style>\n",
       "<table border=\"1\" class=\"dataframe\">\n",
       "  <thead>\n",
       "    <tr style=\"text-align: right;\">\n",
       "      <th></th>\n",
       "      <th>Date</th>\n",
       "      <th>Time</th>\n",
       "      <th>Global_active_power</th>\n",
       "      <th>Global_reactive_power</th>\n",
       "      <th>Voltage</th>\n",
       "      <th>Global_intensity</th>\n",
       "      <th>Sub_metering_1</th>\n",
       "      <th>Sub_metering_2</th>\n",
       "      <th>Sub_metering_3</th>\n",
       "      <th>active_consumption</th>\n",
       "    </tr>\n",
       "  </thead>\n",
       "  <tbody>\n",
       "    <tr>\n",
       "      <th>0</th>\n",
       "      <td>2006-12-16</td>\n",
       "      <td>1900-01-01 17:24:00</td>\n",
       "      <td>0.374796</td>\n",
       "      <td>0.300719</td>\n",
       "      <td>0.376090</td>\n",
       "      <td>0.377593</td>\n",
       "      <td>0.0</td>\n",
       "      <td>0.0125</td>\n",
       "      <td>0.548387</td>\n",
       "      <td>0.824367</td>\n",
       "    </tr>\n",
       "    <tr>\n",
       "      <th>1</th>\n",
       "      <td>2006-12-16</td>\n",
       "      <td>1900-01-01 17:25:00</td>\n",
       "      <td>0.478363</td>\n",
       "      <td>0.313669</td>\n",
       "      <td>0.336995</td>\n",
       "      <td>0.473029</td>\n",
       "      <td>0.0</td>\n",
       "      <td>0.0125</td>\n",
       "      <td>0.516129</td>\n",
       "      <td>0.846381</td>\n",
       "    </tr>\n",
       "    <tr>\n",
       "      <th>2</th>\n",
       "      <td>2006-12-16</td>\n",
       "      <td>1900-01-01 17:26:00</td>\n",
       "      <td>0.479631</td>\n",
       "      <td>0.358273</td>\n",
       "      <td>0.326010</td>\n",
       "      <td>0.473029</td>\n",
       "      <td>0.0</td>\n",
       "      <td>0.0250</td>\n",
       "      <td>0.548387</td>\n",
       "      <td>0.831410</td>\n",
       "    </tr>\n",
       "    <tr>\n",
       "      <th>3</th>\n",
       "      <td>2006-12-16</td>\n",
       "      <td>1900-01-01 17:27:00</td>\n",
       "      <td>0.480898</td>\n",
       "      <td>0.361151</td>\n",
       "      <td>0.340549</td>\n",
       "      <td>0.473029</td>\n",
       "      <td>0.0</td>\n",
       "      <td>0.0125</td>\n",
       "      <td>0.548387</td>\n",
       "      <td>0.839161</td>\n",
       "    </tr>\n",
       "    <tr>\n",
       "      <th>4</th>\n",
       "      <td>2006-12-16</td>\n",
       "      <td>1900-01-01 17:28:00</td>\n",
       "      <td>0.325005</td>\n",
       "      <td>0.379856</td>\n",
       "      <td>0.403231</td>\n",
       "      <td>0.323651</td>\n",
       "      <td>0.0</td>\n",
       "      <td>0.0125</td>\n",
       "      <td>0.548387</td>\n",
       "      <td>0.817424</td>\n",
       "    </tr>\n",
       "  </tbody>\n",
       "</table>\n",
       "</div>"
      ],
      "text/plain": [
       "        Date                Time  Global_active_power  Global_reactive_power  \\\n",
       "0 2006-12-16 1900-01-01 17:24:00             0.374796               0.300719   \n",
       "1 2006-12-16 1900-01-01 17:25:00             0.478363               0.313669   \n",
       "2 2006-12-16 1900-01-01 17:26:00             0.479631               0.358273   \n",
       "3 2006-12-16 1900-01-01 17:27:00             0.480898               0.361151   \n",
       "4 2006-12-16 1900-01-01 17:28:00             0.325005               0.379856   \n",
       "\n",
       "    Voltage  Global_intensity  Sub_metering_1  Sub_metering_2  Sub_metering_3  \\\n",
       "0  0.376090          0.377593             0.0          0.0125        0.548387   \n",
       "1  0.336995          0.473029             0.0          0.0125        0.516129   \n",
       "2  0.326010          0.473029             0.0          0.0250        0.548387   \n",
       "3  0.340549          0.473029             0.0          0.0125        0.548387   \n",
       "4  0.403231          0.323651             0.0          0.0125        0.548387   \n",
       "\n",
       "   active_consumption  \n",
       "0            0.824367  \n",
       "1            0.846381  \n",
       "2            0.831410  \n",
       "3            0.839161  \n",
       "4            0.817424  "
      ]
     },
     "execution_count": 114,
     "metadata": {},
     "output_type": "execute_result"
    }
   ],
   "source": [
    "scaler = sklearn.preprocessing.MinMaxScaler(feature_range=(0, 1))\n",
    "data_normalized = data.copy()\n",
    "data_normalized[data.columns[2:]] = scaler.fit_transform(data[data.columns[2:]])\n",
    "pandas.DataFrame(data_normalized).head()"
   ]
  },
  {
   "cell_type": "code",
   "execution_count": 117,
   "metadata": {},
   "outputs": [
    {
     "name": "stdout",
     "output_type": "stream",
     "text": [
      "(1024640, 8) (1024640, 8) (2049280, 10)\n"
     ]
    }
   ],
   "source": [
    "from sklearn.model_selection import train_test_split\n",
    "train, test = train_test_split(data_normalized, test_size = 0.5)\n",
    "\n",
    "# Split Train / test / label\n",
    "train_data_X = train\n",
    "train_data_X = train_data_X.drop([\"Date\", \"Time\"], axis = 1) \n",
    "train_data_Y = train[\"Global_active_power\"] # Global_active_power seems the most important feature, if I understood clearly the definitions\n",
    "# Lets make it the label we want to predict\n",
    "\n",
    "test_data_X = test\n",
    "test_data_X = test_data_X.drop([\"Date\", \"Time\"], axis = 1)\n",
    "test_data_Y = test[\"Global_active_power\"] # Global_active_power seems the most important feature, if I understood clearly the definitions\n",
    "print(train_data_X.shape, test_data_X.shape, data.shape)"
   ]
  },
  {
   "cell_type": "code",
   "execution_count": 143,
   "metadata": {},
   "outputs": [
    {
     "name": "stdout",
     "output_type": "stream",
     "text": [
      "Epoch 1/30\n",
      " - 4s - loss: 0.0192\n",
      "Epoch 2/30\n",
      " - 1s - loss: 0.0176\n",
      "Epoch 3/30\n",
      " - 1s - loss: 0.0171\n",
      "Epoch 4/30\n",
      " - 1s - loss: 0.0169\n",
      "Epoch 5/30\n",
      " - 1s - loss: 0.0168\n",
      "Epoch 6/30\n",
      " - 1s - loss: 0.0167\n",
      "Epoch 7/30\n",
      " - 1s - loss: 0.0166\n",
      "Epoch 8/30\n",
      " - 1s - loss: 0.0165\n",
      "Epoch 9/30\n",
      " - 1s - loss: 0.0164\n",
      "Epoch 10/30\n",
      " - 1s - loss: 0.0163\n",
      "Epoch 11/30\n",
      " - 1s - loss: 0.0162\n",
      "Epoch 12/30\n",
      " - 1s - loss: 0.0162\n",
      "Epoch 13/30\n",
      " - 1s - loss: 0.0161\n",
      "Epoch 14/30\n",
      " - 1s - loss: 0.0161\n",
      "Epoch 15/30\n",
      " - 1s - loss: 0.0161\n",
      "Epoch 16/30\n",
      " - 1s - loss: 0.0160\n",
      "Epoch 17/30\n",
      " - 1s - loss: 0.0160\n",
      "Epoch 18/30\n",
      " - 1s - loss: 0.0160\n",
      "Epoch 19/30\n",
      " - 1s - loss: 0.0160\n",
      "Epoch 20/30\n",
      " - 1s - loss: 0.0160\n",
      "Epoch 21/30\n",
      " - 1s - loss: 0.0160\n",
      "Epoch 22/30\n",
      " - 1s - loss: 0.0160\n",
      "Epoch 23/30\n",
      " - 1s - loss: 0.0159\n",
      "Epoch 24/30\n",
      " - 1s - loss: 0.0159\n",
      "Epoch 25/30\n",
      " - 1s - loss: 0.0159\n",
      "Epoch 26/30\n",
      " - 1s - loss: 0.0159\n",
      "Epoch 27/30\n",
      " - 1s - loss: 0.0159\n",
      "Epoch 28/30\n",
      " - 1s - loss: 0.0159\n",
      "Epoch 29/30\n",
      " - 1s - loss: 0.0159\n",
      "Epoch 30/30\n",
      " - 1s - loss: 0.0159\n",
      "Ref value shape  23436    0.033134\n",
      "Name: Global_active_power, dtype: float64\n",
      "Delta :  [[0.15325454]]\n"
     ]
    },
    {
     "data": {
      "image/png": "[encoded data removed]",
      "text/plain": [
       "<Figure size 432x288 with 1 Axes>"
      ]
     },
     "metadata": {
      "needs_background": "light"
     },
     "output_type": "display_data"
    }
   ],
   "source": [
    "start_date = pandas.to_datetime(\"1-1-\" + str(2007))\n",
    "history, model = predict_at_t_lstm(data_normalized, start_date, batch_s = 64, epoch_s = 30) \n",
    "plt.plot(history.history['loss'], label = \"Loss year \" + str(2007))\n",
    "plt.legend()\n",
    "plt.show()"
   ]
  },
  {
   "cell_type": "code",
   "execution_count": null,
   "metadata": {},
   "outputs": [],
   "source": []
  },
  {
   "cell_type": "code",
   "execution_count": null,
   "metadata": {},
   "outputs": [
    {
     "name": "stdout",
     "output_type": "stream",
     "text": [
      "Shape rescaled  (1024640, 7)\n"
     ]
    }
   ],
   "source": [
    "import sklearn\n",
    "normalize_test_x = test_data_X.copy()\n",
    "normalize_test_x = normalize_test_x.drop([\"Global_active_power\"], axis = 1)\n",
    "print(\"Shape rescaled \", normalize_test_x.shape)\n",
    "normalize_test_x = np.array(normalize_test_x).reshape((normalize_test_x.shape[0], 1, normalize_test_x.shape[1])) # yes, there is a better way but I have a blackout atm\n",
    "pred = model.predict(normalize_test_x)\n",
    "# Recreate data for inverse scaling\n",
    "normalize_test_x = normalize_test_x.reshape(normalize_test_x.shape[0], normalize_test_x.shape[2])\n"
   ]
  },
  {
   "cell_type": "code",
   "execution_count": null,
   "metadata": {},
   "outputs": [],
   "source": [
    "pandas.DataFrame(normalize_test_x).head()"
   ]
  },
  {
   "cell_type": "code",
   "execution_count": null,
   "metadata": {},
   "outputs": [],
   "source": [
    "normalize_test_x_np = np.array(normalize_test_x)\n",
    "print(normalize_test_x_np.shape)\n",
    "normalize_test_x_np[:, 0] = np.array(pred).flatten()\n",
    "print(normalize_test_x_np.shape)\n",
    "pred = np.concatenate((pred, normalize_test_x_np), axis = 1)\n",
    "print(\"Pred shape \", pred.shape)\n",
    "test_data_Y = np.array(test_data_Y)\n",
    "#pred = scaler.inverse_transform(pred)\n",
    "rmse = np.sqrt(sklearn.metrics.mean_squared_error(test_data_Y, pred[:, 0]))\n",
    "print('rmse : %.3f' % rmse) # So our error is approximately the mean of the data "
   ]
  },
  {
   "cell_type": "code",
   "execution_count": null,
   "metadata": {},
   "outputs": [],
   "source": [
    "plt.plot(pred[:, 0][:100], label = \"Prediction\")\n",
    "plt.plot(test_data_Y[:100], label = \"Reality\")\n",
    "plt.legend()\n",
    "plt.show()"
   ]
  },
  {
   "cell_type": "code",
   "execution_count": 134,
   "metadata": {},
   "outputs": [
    {
     "data": {
      "text/plain": [
       "0.09195395524880737"
      ]
     },
     "execution_count": 134,
     "metadata": {},
     "output_type": "execute_result"
    }
   ],
   "source": [
    "np.mean(test_data_Y)"
   ]
  },
  {
   "cell_type": "code",
   "execution_count": 135,
   "metadata": {},
   "outputs": [
    {
     "data": {
      "text/html": [
       "<div>\n",
       "<style scoped>\n",
       "    .dataframe tbody tr th:only-of-type {\n",
       "        vertical-align: middle;\n",
       "    }\n",
       "\n",
       "    .dataframe tbody tr th {\n",
       "        vertical-align: top;\n",
       "    }\n",
       "\n",
       "    .dataframe thead th {\n",
       "        text-align: right;\n",
       "    }\n",
       "</style>\n",
       "<table border=\"1\" class=\"dataframe\">\n",
       "  <thead>\n",
       "    <tr style=\"text-align: right;\">\n",
       "      <th></th>\n",
       "      <th>Global_active_power</th>\n",
       "      <th>Global_reactive_power</th>\n",
       "      <th>Voltage</th>\n",
       "      <th>Global_intensity</th>\n",
       "      <th>Sub_metering_1</th>\n",
       "      <th>Sub_metering_2</th>\n",
       "      <th>Sub_metering_3</th>\n",
       "      <th>active_consumption</th>\n",
       "    </tr>\n",
       "  </thead>\n",
       "  <tbody>\n",
       "    <tr>\n",
       "      <th>768443</th>\n",
       "      <td>0.139598</td>\n",
       "      <td>0.058993</td>\n",
       "      <td>0.260097</td>\n",
       "      <td>0.141079</td>\n",
       "      <td>0.011364</td>\n",
       "      <td>0.0125</td>\n",
       "      <td>0.548387</td>\n",
       "      <td>0.783999</td>\n",
       "    </tr>\n",
       "    <tr>\n",
       "      <th>1748468</th>\n",
       "      <td>0.053413</td>\n",
       "      <td>0.174101</td>\n",
       "      <td>0.682391</td>\n",
       "      <td>0.058091</td>\n",
       "      <td>0.000000</td>\n",
       "      <td>0.0125</td>\n",
       "      <td>0.032258</td>\n",
       "      <td>0.900735</td>\n",
       "    </tr>\n",
       "    <tr>\n",
       "      <th>1851628</th>\n",
       "      <td>0.078580</td>\n",
       "      <td>0.194245</td>\n",
       "      <td>0.499838</td>\n",
       "      <td>0.078838</td>\n",
       "      <td>0.000000</td>\n",
       "      <td>0.0000</td>\n",
       "      <td>0.387097</td>\n",
       "      <td>0.828507</td>\n",
       "    </tr>\n",
       "    <tr>\n",
       "      <th>1344934</th>\n",
       "      <td>0.070976</td>\n",
       "      <td>0.192806</td>\n",
       "      <td>0.655574</td>\n",
       "      <td>0.103734</td>\n",
       "      <td>0.000000</td>\n",
       "      <td>0.0000</td>\n",
       "      <td>0.032258</td>\n",
       "      <td>0.910757</td>\n",
       "    </tr>\n",
       "    <tr>\n",
       "      <th>1291093</th>\n",
       "      <td>0.005794</td>\n",
       "      <td>0.000000</td>\n",
       "      <td>0.578998</td>\n",
       "      <td>0.008299</td>\n",
       "      <td>0.000000</td>\n",
       "      <td>0.0000</td>\n",
       "      <td>0.032258</td>\n",
       "      <td>0.901669</td>\n",
       "    </tr>\n",
       "  </tbody>\n",
       "</table>\n",
       "</div>"
      ],
      "text/plain": [
       "         Global_active_power  Global_reactive_power   Voltage  \\\n",
       "768443              0.139598               0.058993  0.260097   \n",
       "1748468             0.053413               0.174101  0.682391   \n",
       "1851628             0.078580               0.194245  0.499838   \n",
       "1344934             0.070976               0.192806  0.655574   \n",
       "1291093             0.005794               0.000000  0.578998   \n",
       "\n",
       "         Global_intensity  Sub_metering_1  Sub_metering_2  Sub_metering_3  \\\n",
       "768443           0.141079        0.011364          0.0125        0.548387   \n",
       "1748468          0.058091        0.000000          0.0125        0.032258   \n",
       "1851628          0.078838        0.000000          0.0000        0.387097   \n",
       "1344934          0.103734        0.000000          0.0000        0.032258   \n",
       "1291093          0.008299        0.000000          0.0000        0.032258   \n",
       "\n",
       "         active_consumption  \n",
       "768443             0.783999  \n",
       "1748468            0.900735  \n",
       "1851628            0.828507  \n",
       "1344934            0.910757  \n",
       "1291093            0.901669  "
      ]
     },
     "execution_count": 135,
     "metadata": {},
     "output_type": "execute_result"
    }
   ],
   "source": [
    "test_data_X.head()"
   ]
  },
  {
   "cell_type": "markdown",
   "metadata": {},
   "source": [
    "# The possibitilies \n",
    "\n",
    "As it was not the purpose (especially as a POC problem) I didn't implement those features, but, here are some .. possibilities I thought could be explored. \n",
    "* Night/Day cycle observing the consommation/hour changing\n",
    "* Is this a family or a couple or whatever : If they have kids, they will wake up late during the week end for example\n",
    "* Explore their seasonal habits\n",
    "* Test model with only 1 day / month delay between samples. The current version is really discutable, using info already seen by the model, or info 2 years from the data available to the model for training, especially with a sampling at random... \n",
    "* Transform the dataset from sample/minute to sample/hour or day, significantly faster and might not lose that much info, or can be a tradeoff\n"
   ]
  },
  {
   "cell_type": "code",
   "execution_count": null,
   "metadata": {},
   "outputs": [],
   "source": []
  },
  {
   "cell_type": "code",
   "execution_count": null,
   "metadata": {},
   "outputs": [],
   "source": []
  }
 ],
 "metadata": {
  "kernelspec": {
   "display_name": "Python 3",
   "language": "python",
   "name": "python3"
  },
  "language_info": {
   "codemirror_mode": {
    "name": "ipython",
    "version": 3
   },
   "file_extension": ".py",
   "mimetype": "text/x-python",
   "name": "python",
   "nbconvert_exporter": "python",
   "pygments_lexer": "ipython3",
   "version": "3.5.2"
  }
 },
 "nbformat": 4,
 "nbformat_minor": 2
}
